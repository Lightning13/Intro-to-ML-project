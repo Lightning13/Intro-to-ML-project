{
 "cells": [
  {
   "cell_type": "markdown",
   "metadata": {},
   "source": [
    "## Task Steps:\n",
    "\n",
    "### Step 1: Load and Prepare the Raw Text Dataset\n",
    "\n",
    "1. Load the raw text data.\n",
    "2. Convert the data into a DataFrame format suitable for the apriori algorithm (True/False for each item in columns).\n",
    "\n",
    "### Step 2: Visualize Item Frequencies\n",
    "\n",
    "1. Create a DataFrame containing items and their frequencies.\n",
    "2. Plot the top 10 items with the highest frequencies.\n",
    "\n",
    "### Step 3: Apply Apriori Algorithm for Association Mining\n",
    "\n",
    "1. Utilize the apriori algorithm on the dataset prepared in the step 1 to determine item frequencies.\n",
    "2. Use these frequencies as input to the association rules function to discover associations.\n",
    "\n",
    "### Step 4: Visualize Association Rules\n",
    "\n",
    "1. Plot the confidence values for the discovered association rules.\n",
    "2. Eliminate duplicates, as lift and support will be similar for rules of the type A -> B and B -> A.\n",
    "3. Visualize lift and support metrics for the association rules.\n",
    "\n",
    "By following these steps, we aim to load, process, and analyze the raw text dataset using the apriori algorithm to discover interesting association rules among the items.\n"
   ]
  },
  {
   "cell_type": "code",
   "execution_count": 16,
   "metadata": {},
   "outputs": [],
   "source": [
    "import numpy as np\n",
    "import pandas as pd\n",
    "from mlxtend.frequent_patterns import apriori, association_rules\n",
    "import plotly.express as px\n",
    "import matplotlib.pyplot as plt"
   ]
  },
  {
   "cell_type": "code",
   "execution_count": 2,
   "metadata": {},
   "outputs": [],
   "source": [
    "#Reading the file\n",
    "\n",
    "file_p = 'Data/groceries.txt'\n",
    "data_items = []\n",
    "\n",
    "with open(file_p,'r') as f:\n",
    "    for line in f:\n",
    "        items = line.strip().split(',')\n",
    "        data_items.append(items)"
   ]
  },
  {
   "cell_type": "code",
   "execution_count": 3,
   "metadata": {},
   "outputs": [],
   "source": [
    "unique_items = set(item for sublist in data_items for item in sublist)\n",
    "\n",
    "# Initialize an empty dictionary to store the data\n",
    "data_dict = {item: [] for item in unique_items}\n",
    "\n",
    "# Populate the dictionary with True/False values\n",
    "for item in unique_items:\n",
    "    for sublist in data_items:\n",
    "        data_dict[item].append(item in sublist)\n",
    "\n",
    "# Create a DataFrame from the dictionary\n",
    "df = pd.DataFrame(data_dict)"
   ]
  },
  {
   "cell_type": "code",
   "execution_count": 4,
   "metadata": {},
   "outputs": [
    {
     "data": {
      "text/html": [
       "<div>\n",
       "<style scoped>\n",
       "    .dataframe tbody tr th:only-of-type {\n",
       "        vertical-align: middle;\n",
       "    }\n",
       "\n",
       "    .dataframe tbody tr th {\n",
       "        vertical-align: top;\n",
       "    }\n",
       "\n",
       "    .dataframe thead th {\n",
       "        text-align: right;\n",
       "    }\n",
       "</style>\n",
       "<table border=\"1\" class=\"dataframe\">\n",
       "  <thead>\n",
       "    <tr style=\"text-align: right;\">\n",
       "      <th></th>\n",
       "      <th>Item</th>\n",
       "      <th>Frequency</th>\n",
       "    </tr>\n",
       "  </thead>\n",
       "  <tbody>\n",
       "    <tr>\n",
       "      <th>0</th>\n",
       "      <td>whole milk</td>\n",
       "      <td>2513</td>\n",
       "    </tr>\n",
       "    <tr>\n",
       "      <th>1</th>\n",
       "      <td>other vegetables</td>\n",
       "      <td>1903</td>\n",
       "    </tr>\n",
       "    <tr>\n",
       "      <th>2</th>\n",
       "      <td>rolls/buns</td>\n",
       "      <td>1809</td>\n",
       "    </tr>\n",
       "    <tr>\n",
       "      <th>3</th>\n",
       "      <td>soda</td>\n",
       "      <td>1715</td>\n",
       "    </tr>\n",
       "    <tr>\n",
       "      <th>4</th>\n",
       "      <td>yogurt</td>\n",
       "      <td>1372</td>\n",
       "    </tr>\n",
       "    <tr>\n",
       "      <th>5</th>\n",
       "      <td>bottled water</td>\n",
       "      <td>1087</td>\n",
       "    </tr>\n",
       "    <tr>\n",
       "      <th>6</th>\n",
       "      <td>root vegetables</td>\n",
       "      <td>1072</td>\n",
       "    </tr>\n",
       "    <tr>\n",
       "      <th>7</th>\n",
       "      <td>tropical fruit</td>\n",
       "      <td>1032</td>\n",
       "    </tr>\n",
       "    <tr>\n",
       "      <th>8</th>\n",
       "      <td>shopping bags</td>\n",
       "      <td>969</td>\n",
       "    </tr>\n",
       "    <tr>\n",
       "      <th>9</th>\n",
       "      <td>sausage</td>\n",
       "      <td>924</td>\n",
       "    </tr>\n",
       "    <tr>\n",
       "      <th>10</th>\n",
       "      <td>pastry</td>\n",
       "      <td>875</td>\n",
       "    </tr>\n",
       "    <tr>\n",
       "      <th>11</th>\n",
       "      <td>citrus fruit</td>\n",
       "      <td>814</td>\n",
       "    </tr>\n",
       "    <tr>\n",
       "      <th>12</th>\n",
       "      <td>bottled beer</td>\n",
       "      <td>792</td>\n",
       "    </tr>\n",
       "    <tr>\n",
       "      <th>13</th>\n",
       "      <td>newspapers</td>\n",
       "      <td>785</td>\n",
       "    </tr>\n",
       "    <tr>\n",
       "      <th>14</th>\n",
       "      <td>canned beer</td>\n",
       "      <td>764</td>\n",
       "    </tr>\n",
       "    <tr>\n",
       "      <th>15</th>\n",
       "      <td>pip fruit</td>\n",
       "      <td>744</td>\n",
       "    </tr>\n",
       "    <tr>\n",
       "      <th>16</th>\n",
       "      <td>fruit/vegetable juice</td>\n",
       "      <td>711</td>\n",
       "    </tr>\n",
       "    <tr>\n",
       "      <th>17</th>\n",
       "      <td>whipped/sour cream</td>\n",
       "      <td>705</td>\n",
       "    </tr>\n",
       "    <tr>\n",
       "      <th>18</th>\n",
       "      <td>brown bread</td>\n",
       "      <td>638</td>\n",
       "    </tr>\n",
       "    <tr>\n",
       "      <th>19</th>\n",
       "      <td>domestic eggs</td>\n",
       "      <td>624</td>\n",
       "    </tr>\n",
       "  </tbody>\n",
       "</table>\n",
       "</div>"
      ],
      "text/plain": [
       "                     Item  Frequency\n",
       "0              whole milk       2513\n",
       "1        other vegetables       1903\n",
       "2              rolls/buns       1809\n",
       "3                    soda       1715\n",
       "4                  yogurt       1372\n",
       "5           bottled water       1087\n",
       "6         root vegetables       1072\n",
       "7          tropical fruit       1032\n",
       "8           shopping bags        969\n",
       "9                 sausage        924\n",
       "10                 pastry        875\n",
       "11           citrus fruit        814\n",
       "12           bottled beer        792\n",
       "13             newspapers        785\n",
       "14            canned beer        764\n",
       "15              pip fruit        744\n",
       "16  fruit/vegetable juice        711\n",
       "17     whipped/sour cream        705\n",
       "18            brown bread        638\n",
       "19          domestic eggs        624"
      ]
     },
     "execution_count": 4,
     "metadata": {},
     "output_type": "execute_result"
    }
   ],
   "source": [
    "all_items = [item for sublist in data_items for item in sublist]\n",
    "\n",
    "item_counts = pd.Series(all_items).value_counts()\n",
    "\n",
    "freq_df = pd.DataFrame({'Item': item_counts.index, 'Frequency': item_counts.values})\n",
    "\n",
    "freq_df.head(20)"
   ]
  },
  {
   "cell_type": "code",
   "execution_count": 5,
   "metadata": {},
   "outputs": [
    {
     "name": "stderr",
     "output_type": "stream",
     "text": [
      "/Users/milindbhatia/anaconda3/lib/python3.10/site-packages/plotly/io/_renderers.py:395: DeprecationWarning:\n",
      "\n",
      "distutils Version classes are deprecated. Use packaging.version instead.\n",
      "\n",
      "/Users/milindbhatia/anaconda3/lib/python3.10/site-packages/plotly/io/_renderers.py:395: DeprecationWarning:\n",
      "\n",
      "distutils Version classes are deprecated. Use packaging.version instead.\n",
      "\n"
     ]
    },
    {
     "data": {
      "application/vnd.plotly.v1+json": {
       "config": {
        "plotlyServerURL": "https://plot.ly"
       },
       "data": [
        {
         "branchvalues": "total",
         "customdata": [
          [
           516,
           516
          ],
          [
           792,
           792
          ],
          [
           1087,
           1087
          ],
          [
           638,
           638
          ],
          [
           545,
           545
          ],
          [
           764,
           764
          ],
          [
           488,
           488
          ],
          [
           814,
           814
          ],
          [
           571,
           571
          ],
          [
           524,
           524
          ],
          [
           624,
           624
          ],
          [
           580,
           580
          ],
          [
           473,
           473
          ],
          [
           711,
           711
          ],
          [
           576,
           576
          ],
          [
           515,
           515
          ],
          [
           785,
           785
          ],
          [
           1903,
           1903
          ],
          [
           875,
           875
          ],
          [
           744,
           744
          ],
          [
           567,
           567
          ],
          [
           1809,
           1809
          ],
          [
           1072,
           1072
          ],
          [
           924,
           924
          ],
          [
           969,
           969
          ],
          [
           1715,
           1715
          ],
          [
           1032,
           1032
          ],
          [
           705,
           705
          ],
          [
           2513,
           2513
          ],
          [
           1372,
           1372
          ]
         ],
         "domain": {
          "x": [
           0,
           1
          ],
          "y": [
           0,
           1
          ]
         },
         "hovertemplate": "labels=%{label}<br>Frequency_sum=%{value}<br>parent=%{parent}<br>id=%{id}<br>Frequency=%{color}<extra></extra>",
         "ids": [
          "beef",
          "bottled beer",
          "bottled water",
          "brown bread",
          "butter",
          "canned beer",
          "chocolate",
          "citrus fruit",
          "coffee",
          "curd",
          "domestic eggs",
          "frankfurter",
          "frozen vegetables",
          "fruit/vegetable juice",
          "margarine",
          "napkins",
          "newspapers",
          "other vegetables",
          "pastry",
          "pip fruit",
          "pork",
          "rolls/buns",
          "root vegetables",
          "sausage",
          "shopping bags",
          "soda",
          "tropical fruit",
          "whipped/sour cream",
          "whole milk",
          "yogurt"
         ],
         "labels": [
          "beef",
          "bottled beer",
          "bottled water",
          "brown bread",
          "butter",
          "canned beer",
          "chocolate",
          "citrus fruit",
          "coffee",
          "curd",
          "domestic eggs",
          "frankfurter",
          "frozen vegetables",
          "fruit/vegetable juice",
          "margarine",
          "napkins",
          "newspapers",
          "other vegetables",
          "pastry",
          "pip fruit",
          "pork",
          "rolls/buns",
          "root vegetables",
          "sausage",
          "shopping bags",
          "soda",
          "tropical fruit",
          "whipped/sour cream",
          "whole milk",
          "yogurt"
         ],
         "marker": {
          "coloraxis": "coloraxis",
          "colors": [
           516,
           792,
           1087,
           638,
           545,
           764,
           488,
           814,
           571,
           524,
           624,
           580,
           473,
           711,
           576,
           515,
           785,
           1903,
           875,
           744,
           567,
           1809,
           1072,
           924,
           969,
           1715,
           1032,
           705,
           2513,
           1372
          ]
         },
         "name": "",
         "parents": [
          "",
          "",
          "",
          "",
          "",
          "",
          "",
          "",
          "",
          "",
          "",
          "",
          "",
          "",
          "",
          "",
          "",
          "",
          "",
          "",
          "",
          "",
          "",
          "",
          "",
          "",
          "",
          "",
          "",
          ""
         ],
         "type": "treemap",
         "values": [
          516,
          792,
          1087,
          638,
          545,
          764,
          488,
          814,
          571,
          524,
          624,
          580,
          473,
          711,
          576,
          515,
          785,
          1903,
          875,
          744,
          567,
          1809,
          1072,
          924,
          969,
          1715,
          1032,
          705,
          2513,
          1372
         ]
        }
       ],
       "layout": {
        "coloraxis": {
         "colorbar": {
          "title": {
           "text": "Frequency"
          }
         },
         "colorscale": [
          [
           0,
           "#440154"
          ],
          [
           0.1111111111111111,
           "#482878"
          ],
          [
           0.2222222222222222,
           "#3e4989"
          ],
          [
           0.3333333333333333,
           "#31688e"
          ],
          [
           0.4444444444444444,
           "#26828e"
          ],
          [
           0.5555555555555556,
           "#1f9e89"
          ],
          [
           0.6666666666666666,
           "#35b779"
          ],
          [
           0.7777777777777778,
           "#6ece58"
          ],
          [
           0.8888888888888888,
           "#b5de2b"
          ],
          [
           1,
           "#fde725"
          ]
         ]
        },
        "legend": {
         "tracegroupgap": 0
        },
        "template": {
         "data": {
          "bar": [
           {
            "error_x": {
             "color": "#2a3f5f"
            },
            "error_y": {
             "color": "#2a3f5f"
            },
            "marker": {
             "line": {
              "color": "#E5ECF6",
              "width": 0.5
             },
             "pattern": {
              "fillmode": "overlay",
              "size": 10,
              "solidity": 0.2
             }
            },
            "type": "bar"
           }
          ],
          "barpolar": [
           {
            "marker": {
             "line": {
              "color": "#E5ECF6",
              "width": 0.5
             },
             "pattern": {
              "fillmode": "overlay",
              "size": 10,
              "solidity": 0.2
             }
            },
            "type": "barpolar"
           }
          ],
          "carpet": [
           {
            "aaxis": {
             "endlinecolor": "#2a3f5f",
             "gridcolor": "white",
             "linecolor": "white",
             "minorgridcolor": "white",
             "startlinecolor": "#2a3f5f"
            },
            "baxis": {
             "endlinecolor": "#2a3f5f",
             "gridcolor": "white",
             "linecolor": "white",
             "minorgridcolor": "white",
             "startlinecolor": "#2a3f5f"
            },
            "type": "carpet"
           }
          ],
          "choropleth": [
           {
            "colorbar": {
             "outlinewidth": 0,
             "ticks": ""
            },
            "type": "choropleth"
           }
          ],
          "contour": [
           {
            "colorbar": {
             "outlinewidth": 0,
             "ticks": ""
            },
            "colorscale": [
             [
              0,
              "#0d0887"
             ],
             [
              0.1111111111111111,
              "#46039f"
             ],
             [
              0.2222222222222222,
              "#7201a8"
             ],
             [
              0.3333333333333333,
              "#9c179e"
             ],
             [
              0.4444444444444444,
              "#bd3786"
             ],
             [
              0.5555555555555556,
              "#d8576b"
             ],
             [
              0.6666666666666666,
              "#ed7953"
             ],
             [
              0.7777777777777778,
              "#fb9f3a"
             ],
             [
              0.8888888888888888,
              "#fdca26"
             ],
             [
              1,
              "#f0f921"
             ]
            ],
            "type": "contour"
           }
          ],
          "contourcarpet": [
           {
            "colorbar": {
             "outlinewidth": 0,
             "ticks": ""
            },
            "type": "contourcarpet"
           }
          ],
          "heatmap": [
           {
            "colorbar": {
             "outlinewidth": 0,
             "ticks": ""
            },
            "colorscale": [
             [
              0,
              "#0d0887"
             ],
             [
              0.1111111111111111,
              "#46039f"
             ],
             [
              0.2222222222222222,
              "#7201a8"
             ],
             [
              0.3333333333333333,
              "#9c179e"
             ],
             [
              0.4444444444444444,
              "#bd3786"
             ],
             [
              0.5555555555555556,
              "#d8576b"
             ],
             [
              0.6666666666666666,
              "#ed7953"
             ],
             [
              0.7777777777777778,
              "#fb9f3a"
             ],
             [
              0.8888888888888888,
              "#fdca26"
             ],
             [
              1,
              "#f0f921"
             ]
            ],
            "type": "heatmap"
           }
          ],
          "heatmapgl": [
           {
            "colorbar": {
             "outlinewidth": 0,
             "ticks": ""
            },
            "colorscale": [
             [
              0,
              "#0d0887"
             ],
             [
              0.1111111111111111,
              "#46039f"
             ],
             [
              0.2222222222222222,
              "#7201a8"
             ],
             [
              0.3333333333333333,
              "#9c179e"
             ],
             [
              0.4444444444444444,
              "#bd3786"
             ],
             [
              0.5555555555555556,
              "#d8576b"
             ],
             [
              0.6666666666666666,
              "#ed7953"
             ],
             [
              0.7777777777777778,
              "#fb9f3a"
             ],
             [
              0.8888888888888888,
              "#fdca26"
             ],
             [
              1,
              "#f0f921"
             ]
            ],
            "type": "heatmapgl"
           }
          ],
          "histogram": [
           {
            "marker": {
             "pattern": {
              "fillmode": "overlay",
              "size": 10,
              "solidity": 0.2
             }
            },
            "type": "histogram"
           }
          ],
          "histogram2d": [
           {
            "colorbar": {
             "outlinewidth": 0,
             "ticks": ""
            },
            "colorscale": [
             [
              0,
              "#0d0887"
             ],
             [
              0.1111111111111111,
              "#46039f"
             ],
             [
              0.2222222222222222,
              "#7201a8"
             ],
             [
              0.3333333333333333,
              "#9c179e"
             ],
             [
              0.4444444444444444,
              "#bd3786"
             ],
             [
              0.5555555555555556,
              "#d8576b"
             ],
             [
              0.6666666666666666,
              "#ed7953"
             ],
             [
              0.7777777777777778,
              "#fb9f3a"
             ],
             [
              0.8888888888888888,
              "#fdca26"
             ],
             [
              1,
              "#f0f921"
             ]
            ],
            "type": "histogram2d"
           }
          ],
          "histogram2dcontour": [
           {
            "colorbar": {
             "outlinewidth": 0,
             "ticks": ""
            },
            "colorscale": [
             [
              0,
              "#0d0887"
             ],
             [
              0.1111111111111111,
              "#46039f"
             ],
             [
              0.2222222222222222,
              "#7201a8"
             ],
             [
              0.3333333333333333,
              "#9c179e"
             ],
             [
              0.4444444444444444,
              "#bd3786"
             ],
             [
              0.5555555555555556,
              "#d8576b"
             ],
             [
              0.6666666666666666,
              "#ed7953"
             ],
             [
              0.7777777777777778,
              "#fb9f3a"
             ],
             [
              0.8888888888888888,
              "#fdca26"
             ],
             [
              1,
              "#f0f921"
             ]
            ],
            "type": "histogram2dcontour"
           }
          ],
          "mesh3d": [
           {
            "colorbar": {
             "outlinewidth": 0,
             "ticks": ""
            },
            "type": "mesh3d"
           }
          ],
          "parcoords": [
           {
            "line": {
             "colorbar": {
              "outlinewidth": 0,
              "ticks": ""
             }
            },
            "type": "parcoords"
           }
          ],
          "pie": [
           {
            "automargin": true,
            "type": "pie"
           }
          ],
          "scatter": [
           {
            "fillpattern": {
             "fillmode": "overlay",
             "size": 10,
             "solidity": 0.2
            },
            "type": "scatter"
           }
          ],
          "scatter3d": [
           {
            "line": {
             "colorbar": {
              "outlinewidth": 0,
              "ticks": ""
             }
            },
            "marker": {
             "colorbar": {
              "outlinewidth": 0,
              "ticks": ""
             }
            },
            "type": "scatter3d"
           }
          ],
          "scattercarpet": [
           {
            "marker": {
             "colorbar": {
              "outlinewidth": 0,
              "ticks": ""
             }
            },
            "type": "scattercarpet"
           }
          ],
          "scattergeo": [
           {
            "marker": {
             "colorbar": {
              "outlinewidth": 0,
              "ticks": ""
             }
            },
            "type": "scattergeo"
           }
          ],
          "scattergl": [
           {
            "marker": {
             "colorbar": {
              "outlinewidth": 0,
              "ticks": ""
             }
            },
            "type": "scattergl"
           }
          ],
          "scattermapbox": [
           {
            "marker": {
             "colorbar": {
              "outlinewidth": 0,
              "ticks": ""
             }
            },
            "type": "scattermapbox"
           }
          ],
          "scatterpolar": [
           {
            "marker": {
             "colorbar": {
              "outlinewidth": 0,
              "ticks": ""
             }
            },
            "type": "scatterpolar"
           }
          ],
          "scatterpolargl": [
           {
            "marker": {
             "colorbar": {
              "outlinewidth": 0,
              "ticks": ""
             }
            },
            "type": "scatterpolargl"
           }
          ],
          "scatterternary": [
           {
            "marker": {
             "colorbar": {
              "outlinewidth": 0,
              "ticks": ""
             }
            },
            "type": "scatterternary"
           }
          ],
          "surface": [
           {
            "colorbar": {
             "outlinewidth": 0,
             "ticks": ""
            },
            "colorscale": [
             [
              0,
              "#0d0887"
             ],
             [
              0.1111111111111111,
              "#46039f"
             ],
             [
              0.2222222222222222,
              "#7201a8"
             ],
             [
              0.3333333333333333,
              "#9c179e"
             ],
             [
              0.4444444444444444,
              "#bd3786"
             ],
             [
              0.5555555555555556,
              "#d8576b"
             ],
             [
              0.6666666666666666,
              "#ed7953"
             ],
             [
              0.7777777777777778,
              "#fb9f3a"
             ],
             [
              0.8888888888888888,
              "#fdca26"
             ],
             [
              1,
              "#f0f921"
             ]
            ],
            "type": "surface"
           }
          ],
          "table": [
           {
            "cells": {
             "fill": {
              "color": "#EBF0F8"
             },
             "line": {
              "color": "white"
             }
            },
            "header": {
             "fill": {
              "color": "#C8D4E3"
             },
             "line": {
              "color": "white"
             }
            },
            "type": "table"
           }
          ]
         },
         "layout": {
          "annotationdefaults": {
           "arrowcolor": "#2a3f5f",
           "arrowhead": 0,
           "arrowwidth": 1
          },
          "autotypenumbers": "strict",
          "coloraxis": {
           "colorbar": {
            "outlinewidth": 0,
            "ticks": ""
           }
          },
          "colorscale": {
           "diverging": [
            [
             0,
             "#8e0152"
            ],
            [
             0.1,
             "#c51b7d"
            ],
            [
             0.2,
             "#de77ae"
            ],
            [
             0.3,
             "#f1b6da"
            ],
            [
             0.4,
             "#fde0ef"
            ],
            [
             0.5,
             "#f7f7f7"
            ],
            [
             0.6,
             "#e6f5d0"
            ],
            [
             0.7,
             "#b8e186"
            ],
            [
             0.8,
             "#7fbc41"
            ],
            [
             0.9,
             "#4d9221"
            ],
            [
             1,
             "#276419"
            ]
           ],
           "sequential": [
            [
             0,
             "#0d0887"
            ],
            [
             0.1111111111111111,
             "#46039f"
            ],
            [
             0.2222222222222222,
             "#7201a8"
            ],
            [
             0.3333333333333333,
             "#9c179e"
            ],
            [
             0.4444444444444444,
             "#bd3786"
            ],
            [
             0.5555555555555556,
             "#d8576b"
            ],
            [
             0.6666666666666666,
             "#ed7953"
            ],
            [
             0.7777777777777778,
             "#fb9f3a"
            ],
            [
             0.8888888888888888,
             "#fdca26"
            ],
            [
             1,
             "#f0f921"
            ]
           ],
           "sequentialminus": [
            [
             0,
             "#0d0887"
            ],
            [
             0.1111111111111111,
             "#46039f"
            ],
            [
             0.2222222222222222,
             "#7201a8"
            ],
            [
             0.3333333333333333,
             "#9c179e"
            ],
            [
             0.4444444444444444,
             "#bd3786"
            ],
            [
             0.5555555555555556,
             "#d8576b"
            ],
            [
             0.6666666666666666,
             "#ed7953"
            ],
            [
             0.7777777777777778,
             "#fb9f3a"
            ],
            [
             0.8888888888888888,
             "#fdca26"
            ],
            [
             1,
             "#f0f921"
            ]
           ]
          },
          "colorway": [
           "#636efa",
           "#EF553B",
           "#00cc96",
           "#ab63fa",
           "#FFA15A",
           "#19d3f3",
           "#FF6692",
           "#B6E880",
           "#FF97FF",
           "#FECB52"
          ],
          "font": {
           "color": "#2a3f5f"
          },
          "geo": {
           "bgcolor": "white",
           "lakecolor": "white",
           "landcolor": "#E5ECF6",
           "showlakes": true,
           "showland": true,
           "subunitcolor": "white"
          },
          "hoverlabel": {
           "align": "left"
          },
          "hovermode": "closest",
          "mapbox": {
           "style": "light"
          },
          "paper_bgcolor": "white",
          "plot_bgcolor": "#E5ECF6",
          "polar": {
           "angularaxis": {
            "gridcolor": "white",
            "linecolor": "white",
            "ticks": ""
           },
           "bgcolor": "#E5ECF6",
           "radialaxis": {
            "gridcolor": "white",
            "linecolor": "white",
            "ticks": ""
           }
          },
          "scene": {
           "xaxis": {
            "backgroundcolor": "#E5ECF6",
            "gridcolor": "white",
            "gridwidth": 2,
            "linecolor": "white",
            "showbackground": true,
            "ticks": "",
            "zerolinecolor": "white"
           },
           "yaxis": {
            "backgroundcolor": "#E5ECF6",
            "gridcolor": "white",
            "gridwidth": 2,
            "linecolor": "white",
            "showbackground": true,
            "ticks": "",
            "zerolinecolor": "white"
           },
           "zaxis": {
            "backgroundcolor": "#E5ECF6",
            "gridcolor": "white",
            "gridwidth": 2,
            "linecolor": "white",
            "showbackground": true,
            "ticks": "",
            "zerolinecolor": "white"
           }
          },
          "shapedefaults": {
           "line": {
            "color": "#2a3f5f"
           }
          },
          "ternary": {
           "aaxis": {
            "gridcolor": "white",
            "linecolor": "white",
            "ticks": ""
           },
           "baxis": {
            "gridcolor": "white",
            "linecolor": "white",
            "ticks": ""
           },
           "bgcolor": "#E5ECF6",
           "caxis": {
            "gridcolor": "white",
            "linecolor": "white",
            "ticks": ""
           }
          },
          "title": {
           "x": 0.05
          },
          "xaxis": {
           "automargin": true,
           "gridcolor": "white",
           "linecolor": "white",
           "ticks": "",
           "title": {
            "standoff": 15
           },
           "zerolinecolor": "white",
           "zerolinewidth": 2
          },
          "yaxis": {
           "automargin": true,
           "gridcolor": "white",
           "linecolor": "white",
           "ticks": "",
           "title": {
            "standoff": 15
           },
           "zerolinecolor": "white",
           "zerolinewidth": 2
          }
         }
        },
        "title": {
         "text": "Item Frequency Treemap"
        }
       }
      }
     },
     "metadata": {},
     "output_type": "display_data"
    }
   ],
   "source": [
    "freq_df30 = freq_df.head(30)\n",
    "fig = px.treemap(freq_df30, path=['Item'], values='Frequency', color='Frequency',\n",
    "                 color_continuous_scale='viridis', title='Item Frequency Treemap',\n",
    "                 hover_data=['Frequency']) \n",
    "\n",
    "fig.show()"
   ]
  },
  {
   "cell_type": "markdown",
   "metadata": {},
   "source": [
    "**Notable Items Frequented:**\n",
    "\n",
    "Based on the data analysis, it's apparent that \"whole milk\" and \"other vegetables\" are the most frequently purchased items. Following closely are \"rolls/buns\", \"soda\", \"yogurt\", and \"bottled water\". These items are likely to be prominent as we explore potential associations using the apriori algorithm.\n"
   ]
  },
  {
   "cell_type": "code",
   "execution_count": 9,
   "metadata": {},
   "outputs": [
    {
     "name": "stdout",
     "output_type": "stream",
     "text": [
      "      support                                           itemsets\n",
      "0    0.033249                                          (berries)\n",
      "672  0.007626                           (pip fruit, brown bread)\n",
      "659  0.005084                    (other vegetables, canned fish)\n",
      "660  0.018709                    (other vegetables, brown bread)\n",
      "661  0.013116                  (other vegetables, cream cheese )\n",
      "..        ...                                                ...\n",
      "338  0.005694             (fruit/vegetable juice, cream cheese )\n",
      "339  0.006914                   (fruit/vegetable juice, napkins)\n",
      "340  0.010066                   (fruit/vegetable juice, sausage)\n",
      "341  0.009049        (fruit/vegetable juice, whipped/sour cream)\n",
      "999  0.005592  (other vegetables, yogurt, whole milk, whipped...\n",
      "\n",
      "[1000 rows x 2 columns]\n"
     ]
    },
    {
     "data": {
      "text/html": [
       "<div>\n",
       "<style scoped>\n",
       "    .dataframe tbody tr th:only-of-type {\n",
       "        vertical-align: middle;\n",
       "    }\n",
       "\n",
       "    .dataframe tbody tr th {\n",
       "        vertical-align: top;\n",
       "    }\n",
       "\n",
       "    .dataframe thead th {\n",
       "        text-align: right;\n",
       "    }\n",
       "</style>\n",
       "<table border=\"1\" class=\"dataframe\">\n",
       "  <thead>\n",
       "    <tr style=\"text-align: right;\">\n",
       "      <th></th>\n",
       "      <th>antecedents</th>\n",
       "      <th>consequents</th>\n",
       "      <th>antecedent support</th>\n",
       "      <th>consequent support</th>\n",
       "      <th>support</th>\n",
       "      <th>confidence</th>\n",
       "      <th>lift</th>\n",
       "      <th>leverage</th>\n",
       "      <th>conviction</th>\n",
       "      <th>zhangs_metric</th>\n",
       "    </tr>\n",
       "  </thead>\n",
       "  <tbody>\n",
       "    <tr>\n",
       "      <th>126</th>\n",
       "      <td>(whole milk, tropical fruit)</td>\n",
       "      <td>(yogurt, root vegetables)</td>\n",
       "      <td>0.042298</td>\n",
       "      <td>0.025826</td>\n",
       "      <td>0.005694</td>\n",
       "      <td>0.134615</td>\n",
       "      <td>5.212371</td>\n",
       "      <td>0.004602</td>\n",
       "      <td>1.125712</td>\n",
       "      <td>0.843841</td>\n",
       "    </tr>\n",
       "    <tr>\n",
       "      <th>121</th>\n",
       "      <td>(yogurt, root vegetables)</td>\n",
       "      <td>(whole milk, tropical fruit)</td>\n",
       "      <td>0.025826</td>\n",
       "      <td>0.042298</td>\n",
       "      <td>0.005694</td>\n",
       "      <td>0.220472</td>\n",
       "      <td>5.212371</td>\n",
       "      <td>0.004602</td>\n",
       "      <td>1.228567</td>\n",
       "      <td>0.829573</td>\n",
       "    </tr>\n",
       "    <tr>\n",
       "      <th>125</th>\n",
       "      <td>(root vegetables, tropical fruit)</td>\n",
       "      <td>(yogurt, whole milk)</td>\n",
       "      <td>0.021047</td>\n",
       "      <td>0.056024</td>\n",
       "      <td>0.005694</td>\n",
       "      <td>0.270531</td>\n",
       "      <td>4.828814</td>\n",
       "      <td>0.004515</td>\n",
       "      <td>1.294059</td>\n",
       "      <td>0.809957</td>\n",
       "    </tr>\n",
       "    <tr>\n",
       "      <th>122</th>\n",
       "      <td>(yogurt, whole milk)</td>\n",
       "      <td>(root vegetables, tropical fruit)</td>\n",
       "      <td>0.056024</td>\n",
       "      <td>0.021047</td>\n",
       "      <td>0.005694</td>\n",
       "      <td>0.101633</td>\n",
       "      <td>4.828814</td>\n",
       "      <td>0.004515</td>\n",
       "      <td>1.089703</td>\n",
       "      <td>0.839969</td>\n",
       "    </tr>\n",
       "    <tr>\n",
       "      <th>182</th>\n",
       "      <td>(other vegetables, whole milk)</td>\n",
       "      <td>(root vegetables, pip fruit)</td>\n",
       "      <td>0.074835</td>\n",
       "      <td>0.015557</td>\n",
       "      <td>0.005491</td>\n",
       "      <td>0.073370</td>\n",
       "      <td>4.716272</td>\n",
       "      <td>0.004326</td>\n",
       "      <td>1.062390</td>\n",
       "      <td>0.851705</td>\n",
       "    </tr>\n",
       "    <tr>\n",
       "      <th>...</th>\n",
       "      <td>...</td>\n",
       "      <td>...</td>\n",
       "      <td>...</td>\n",
       "      <td>...</td>\n",
       "      <td>...</td>\n",
       "      <td>...</td>\n",
       "      <td>...</td>\n",
       "      <td>...</td>\n",
       "      <td>...</td>\n",
       "      <td>...</td>\n",
       "    </tr>\n",
       "    <tr>\n",
       "      <th>72</th>\n",
       "      <td>(yogurt, whole milk)</td>\n",
       "      <td>(butter)</td>\n",
       "      <td>0.056024</td>\n",
       "      <td>0.055414</td>\n",
       "      <td>0.009354</td>\n",
       "      <td>0.166969</td>\n",
       "      <td>3.013104</td>\n",
       "      <td>0.006250</td>\n",
       "      <td>1.133914</td>\n",
       "      <td>0.707769</td>\n",
       "    </tr>\n",
       "    <tr>\n",
       "      <th>63</th>\n",
       "      <td>(butter)</td>\n",
       "      <td>(citrus fruit, whole milk)</td>\n",
       "      <td>0.055414</td>\n",
       "      <td>0.030503</td>\n",
       "      <td>0.005084</td>\n",
       "      <td>0.091743</td>\n",
       "      <td>3.007645</td>\n",
       "      <td>0.003394</td>\n",
       "      <td>1.067426</td>\n",
       "      <td>0.706674</td>\n",
       "    </tr>\n",
       "    <tr>\n",
       "      <th>62</th>\n",
       "      <td>(citrus fruit, whole milk)</td>\n",
       "      <td>(butter)</td>\n",
       "      <td>0.030503</td>\n",
       "      <td>0.055414</td>\n",
       "      <td>0.005084</td>\n",
       "      <td>0.166667</td>\n",
       "      <td>3.007645</td>\n",
       "      <td>0.003394</td>\n",
       "      <td>1.133503</td>\n",
       "      <td>0.688516</td>\n",
       "    </tr>\n",
       "    <tr>\n",
       "      <th>32</th>\n",
       "      <td>(yogurt, root vegetables)</td>\n",
       "      <td>(tropical fruit)</td>\n",
       "      <td>0.025826</td>\n",
       "      <td>0.104931</td>\n",
       "      <td>0.008134</td>\n",
       "      <td>0.314961</td>\n",
       "      <td>3.001587</td>\n",
       "      <td>0.005424</td>\n",
       "      <td>1.306594</td>\n",
       "      <td>0.684521</td>\n",
       "    </tr>\n",
       "    <tr>\n",
       "      <th>33</th>\n",
       "      <td>(tropical fruit)</td>\n",
       "      <td>(yogurt, root vegetables)</td>\n",
       "      <td>0.104931</td>\n",
       "      <td>0.025826</td>\n",
       "      <td>0.008134</td>\n",
       "      <td>0.077519</td>\n",
       "      <td>3.001587</td>\n",
       "      <td>0.005424</td>\n",
       "      <td>1.056037</td>\n",
       "      <td>0.745019</td>\n",
       "    </tr>\n",
       "  </tbody>\n",
       "</table>\n",
       "<p>220 rows × 10 columns</p>\n",
       "</div>"
      ],
      "text/plain": [
       "                           antecedents                        consequents  \\\n",
       "126       (whole milk, tropical fruit)          (yogurt, root vegetables)   \n",
       "121          (yogurt, root vegetables)       (whole milk, tropical fruit)   \n",
       "125  (root vegetables, tropical fruit)               (yogurt, whole milk)   \n",
       "122               (yogurt, whole milk)  (root vegetables, tropical fruit)   \n",
       "182     (other vegetables, whole milk)       (root vegetables, pip fruit)   \n",
       "..                                 ...                                ...   \n",
       "72                (yogurt, whole milk)                           (butter)   \n",
       "63                            (butter)         (citrus fruit, whole milk)   \n",
       "62          (citrus fruit, whole milk)                           (butter)   \n",
       "32           (yogurt, root vegetables)                   (tropical fruit)   \n",
       "33                    (tropical fruit)          (yogurt, root vegetables)   \n",
       "\n",
       "     antecedent support  consequent support   support  confidence      lift  \\\n",
       "126            0.042298            0.025826  0.005694    0.134615  5.212371   \n",
       "121            0.025826            0.042298  0.005694    0.220472  5.212371   \n",
       "125            0.021047            0.056024  0.005694    0.270531  4.828814   \n",
       "122            0.056024            0.021047  0.005694    0.101633  4.828814   \n",
       "182            0.074835            0.015557  0.005491    0.073370  4.716272   \n",
       "..                  ...                 ...       ...         ...       ...   \n",
       "72             0.056024            0.055414  0.009354    0.166969  3.013104   \n",
       "63             0.055414            0.030503  0.005084    0.091743  3.007645   \n",
       "62             0.030503            0.055414  0.005084    0.166667  3.007645   \n",
       "32             0.025826            0.104931  0.008134    0.314961  3.001587   \n",
       "33             0.104931            0.025826  0.008134    0.077519  3.001587   \n",
       "\n",
       "     leverage  conviction  zhangs_metric  \n",
       "126  0.004602    1.125712       0.843841  \n",
       "121  0.004602    1.228567       0.829573  \n",
       "125  0.004515    1.294059       0.809957  \n",
       "122  0.004515    1.089703       0.839969  \n",
       "182  0.004326    1.062390       0.851705  \n",
       "..        ...         ...            ...  \n",
       "72   0.006250    1.133914       0.707769  \n",
       "63   0.003394    1.067426       0.706674  \n",
       "62   0.003394    1.133503       0.688516  \n",
       "32   0.005424    1.306594       0.684521  \n",
       "33   0.005424    1.056037       0.745019  \n",
       "\n",
       "[220 rows x 10 columns]"
      ]
     },
     "execution_count": 9,
     "metadata": {},
     "output_type": "execute_result"
    }
   ],
   "source": [
    "#Applying Apriori Algorithm on all items\n",
    "\n",
    "frq_items = apriori(df, min_support = 0.005, use_colnames=True)\n",
    "print(frq_items.sort_values(by='itemsets',ascending=False))\n",
    "\n",
    "rules = association_rules(frq_items, metric=\"lift\", min_threshold=3)\n",
    "rules.sort_values(by='lift',ascending=False)"
   ]
  },
  {
   "cell_type": "markdown",
   "metadata": {},
   "source": [
    "**Adjusting Support and Lift Thresholds:**\n",
    "\n",
    "Given the substantial size of our dataset and the numerous items within it, we have set a relatively lower support value. This choice enables us to explore a wider range of possible associations. By maintaining a support value of less than 0.01, we ensure that we retain a larger set of filtered items, fostering the discovery of potential associations.\n",
    "\n",
    "For lift values, our goal is to identify pairs that exhibit robust and meaningful associations, characterized by strong relationships. To this end, we've set a threshold of 3 for lift. This criterion helps us focus on pairs of items that exhibit particularly compelling connections.\n"
   ]
  },
  {
   "cell_type": "code",
   "execution_count": 13,
   "metadata": {},
   "outputs": [
    {
     "data": {
      "text/html": [
       "<div>\n",
       "<style scoped>\n",
       "    .dataframe tbody tr th:only-of-type {\n",
       "        vertical-align: middle;\n",
       "    }\n",
       "\n",
       "    .dataframe tbody tr th {\n",
       "        vertical-align: top;\n",
       "    }\n",
       "\n",
       "    .dataframe thead th {\n",
       "        text-align: right;\n",
       "    }\n",
       "</style>\n",
       "<table border=\"1\" class=\"dataframe\">\n",
       "  <thead>\n",
       "    <tr style=\"text-align: right;\">\n",
       "      <th></th>\n",
       "      <th>antecedents</th>\n",
       "      <th>consequents</th>\n",
       "      <th>antecedent support</th>\n",
       "      <th>consequent support</th>\n",
       "      <th>support</th>\n",
       "      <th>confidence</th>\n",
       "      <th>lift</th>\n",
       "      <th>leverage</th>\n",
       "      <th>conviction</th>\n",
       "      <th>zhangs_metric</th>\n",
       "      <th>rules_ass</th>\n",
       "    </tr>\n",
       "  </thead>\n",
       "  <tbody>\n",
       "    <tr>\n",
       "      <th>126</th>\n",
       "      <td>(whole milk, tropical fruit)</td>\n",
       "      <td>(yogurt, root vegetables)</td>\n",
       "      <td>0.042298</td>\n",
       "      <td>0.025826</td>\n",
       "      <td>0.005694</td>\n",
       "      <td>0.134615</td>\n",
       "      <td>5.212371</td>\n",
       "      <td>0.004602</td>\n",
       "      <td>1.125712</td>\n",
       "      <td>0.843841</td>\n",
       "      <td>whole milk, tropical fruit -&gt; yogurt, root veg...</td>\n",
       "    </tr>\n",
       "    <tr>\n",
       "      <th>121</th>\n",
       "      <td>(yogurt, root vegetables)</td>\n",
       "      <td>(whole milk, tropical fruit)</td>\n",
       "      <td>0.025826</td>\n",
       "      <td>0.042298</td>\n",
       "      <td>0.005694</td>\n",
       "      <td>0.220472</td>\n",
       "      <td>5.212371</td>\n",
       "      <td>0.004602</td>\n",
       "      <td>1.228567</td>\n",
       "      <td>0.829573</td>\n",
       "      <td>yogurt, root vegetables -&gt; whole milk, tropica...</td>\n",
       "    </tr>\n",
       "    <tr>\n",
       "      <th>125</th>\n",
       "      <td>(root vegetables, tropical fruit)</td>\n",
       "      <td>(yogurt, whole milk)</td>\n",
       "      <td>0.021047</td>\n",
       "      <td>0.056024</td>\n",
       "      <td>0.005694</td>\n",
       "      <td>0.270531</td>\n",
       "      <td>4.828814</td>\n",
       "      <td>0.004515</td>\n",
       "      <td>1.294059</td>\n",
       "      <td>0.809957</td>\n",
       "      <td>root vegetables, tropical fruit -&gt; yogurt, who...</td>\n",
       "    </tr>\n",
       "    <tr>\n",
       "      <th>122</th>\n",
       "      <td>(yogurt, whole milk)</td>\n",
       "      <td>(root vegetables, tropical fruit)</td>\n",
       "      <td>0.056024</td>\n",
       "      <td>0.021047</td>\n",
       "      <td>0.005694</td>\n",
       "      <td>0.101633</td>\n",
       "      <td>4.828814</td>\n",
       "      <td>0.004515</td>\n",
       "      <td>1.089703</td>\n",
       "      <td>0.839969</td>\n",
       "      <td>yogurt, whole milk -&gt; root vegetables, tropica...</td>\n",
       "    </tr>\n",
       "    <tr>\n",
       "      <th>182</th>\n",
       "      <td>(other vegetables, whole milk)</td>\n",
       "      <td>(root vegetables, pip fruit)</td>\n",
       "      <td>0.074835</td>\n",
       "      <td>0.015557</td>\n",
       "      <td>0.005491</td>\n",
       "      <td>0.073370</td>\n",
       "      <td>4.716272</td>\n",
       "      <td>0.004326</td>\n",
       "      <td>1.062390</td>\n",
       "      <td>0.851705</td>\n",
       "      <td>other vegetables, whole milk -&gt; root vegetable...</td>\n",
       "    </tr>\n",
       "    <tr>\n",
       "      <th>...</th>\n",
       "      <td>...</td>\n",
       "      <td>...</td>\n",
       "      <td>...</td>\n",
       "      <td>...</td>\n",
       "      <td>...</td>\n",
       "      <td>...</td>\n",
       "      <td>...</td>\n",
       "      <td>...</td>\n",
       "      <td>...</td>\n",
       "      <td>...</td>\n",
       "      <td>...</td>\n",
       "    </tr>\n",
       "    <tr>\n",
       "      <th>72</th>\n",
       "      <td>(yogurt, whole milk)</td>\n",
       "      <td>(butter)</td>\n",
       "      <td>0.056024</td>\n",
       "      <td>0.055414</td>\n",
       "      <td>0.009354</td>\n",
       "      <td>0.166969</td>\n",
       "      <td>3.013104</td>\n",
       "      <td>0.006250</td>\n",
       "      <td>1.133914</td>\n",
       "      <td>0.707769</td>\n",
       "      <td>yogurt, whole milk -&gt; butter</td>\n",
       "    </tr>\n",
       "    <tr>\n",
       "      <th>63</th>\n",
       "      <td>(butter)</td>\n",
       "      <td>(citrus fruit, whole milk)</td>\n",
       "      <td>0.055414</td>\n",
       "      <td>0.030503</td>\n",
       "      <td>0.005084</td>\n",
       "      <td>0.091743</td>\n",
       "      <td>3.007645</td>\n",
       "      <td>0.003394</td>\n",
       "      <td>1.067426</td>\n",
       "      <td>0.706674</td>\n",
       "      <td>butter -&gt; citrus fruit, whole milk</td>\n",
       "    </tr>\n",
       "    <tr>\n",
       "      <th>62</th>\n",
       "      <td>(citrus fruit, whole milk)</td>\n",
       "      <td>(butter)</td>\n",
       "      <td>0.030503</td>\n",
       "      <td>0.055414</td>\n",
       "      <td>0.005084</td>\n",
       "      <td>0.166667</td>\n",
       "      <td>3.007645</td>\n",
       "      <td>0.003394</td>\n",
       "      <td>1.133503</td>\n",
       "      <td>0.688516</td>\n",
       "      <td>citrus fruit, whole milk -&gt; butter</td>\n",
       "    </tr>\n",
       "    <tr>\n",
       "      <th>32</th>\n",
       "      <td>(yogurt, root vegetables)</td>\n",
       "      <td>(tropical fruit)</td>\n",
       "      <td>0.025826</td>\n",
       "      <td>0.104931</td>\n",
       "      <td>0.008134</td>\n",
       "      <td>0.314961</td>\n",
       "      <td>3.001587</td>\n",
       "      <td>0.005424</td>\n",
       "      <td>1.306594</td>\n",
       "      <td>0.684521</td>\n",
       "      <td>yogurt, root vegetables -&gt; tropical fruit</td>\n",
       "    </tr>\n",
       "    <tr>\n",
       "      <th>33</th>\n",
       "      <td>(tropical fruit)</td>\n",
       "      <td>(yogurt, root vegetables)</td>\n",
       "      <td>0.104931</td>\n",
       "      <td>0.025826</td>\n",
       "      <td>0.008134</td>\n",
       "      <td>0.077519</td>\n",
       "      <td>3.001587</td>\n",
       "      <td>0.005424</td>\n",
       "      <td>1.056037</td>\n",
       "      <td>0.745019</td>\n",
       "      <td>tropical fruit -&gt; yogurt, root vegetables</td>\n",
       "    </tr>\n",
       "  </tbody>\n",
       "</table>\n",
       "<p>220 rows × 11 columns</p>\n",
       "</div>"
      ],
      "text/plain": [
       "                           antecedents                        consequents  \\\n",
       "126       (whole milk, tropical fruit)          (yogurt, root vegetables)   \n",
       "121          (yogurt, root vegetables)       (whole milk, tropical fruit)   \n",
       "125  (root vegetables, tropical fruit)               (yogurt, whole milk)   \n",
       "122               (yogurt, whole milk)  (root vegetables, tropical fruit)   \n",
       "182     (other vegetables, whole milk)       (root vegetables, pip fruit)   \n",
       "..                                 ...                                ...   \n",
       "72                (yogurt, whole milk)                           (butter)   \n",
       "63                            (butter)         (citrus fruit, whole milk)   \n",
       "62          (citrus fruit, whole milk)                           (butter)   \n",
       "32           (yogurt, root vegetables)                   (tropical fruit)   \n",
       "33                    (tropical fruit)          (yogurt, root vegetables)   \n",
       "\n",
       "     antecedent support  consequent support   support  confidence      lift  \\\n",
       "126            0.042298            0.025826  0.005694    0.134615  5.212371   \n",
       "121            0.025826            0.042298  0.005694    0.220472  5.212371   \n",
       "125            0.021047            0.056024  0.005694    0.270531  4.828814   \n",
       "122            0.056024            0.021047  0.005694    0.101633  4.828814   \n",
       "182            0.074835            0.015557  0.005491    0.073370  4.716272   \n",
       "..                  ...                 ...       ...         ...       ...   \n",
       "72             0.056024            0.055414  0.009354    0.166969  3.013104   \n",
       "63             0.055414            0.030503  0.005084    0.091743  3.007645   \n",
       "62             0.030503            0.055414  0.005084    0.166667  3.007645   \n",
       "32             0.025826            0.104931  0.008134    0.314961  3.001587   \n",
       "33             0.104931            0.025826  0.008134    0.077519  3.001587   \n",
       "\n",
       "     leverage  conviction  zhangs_metric  \\\n",
       "126  0.004602    1.125712       0.843841   \n",
       "121  0.004602    1.228567       0.829573   \n",
       "125  0.004515    1.294059       0.809957   \n",
       "122  0.004515    1.089703       0.839969   \n",
       "182  0.004326    1.062390       0.851705   \n",
       "..        ...         ...            ...   \n",
       "72   0.006250    1.133914       0.707769   \n",
       "63   0.003394    1.067426       0.706674   \n",
       "62   0.003394    1.133503       0.688516   \n",
       "32   0.005424    1.306594       0.684521   \n",
       "33   0.005424    1.056037       0.745019   \n",
       "\n",
       "                                             rules_ass  \n",
       "126  whole milk, tropical fruit -> yogurt, root veg...  \n",
       "121  yogurt, root vegetables -> whole milk, tropica...  \n",
       "125  root vegetables, tropical fruit -> yogurt, who...  \n",
       "122  yogurt, whole milk -> root vegetables, tropica...  \n",
       "182  other vegetables, whole milk -> root vegetable...  \n",
       "..                                                 ...  \n",
       "72                        yogurt, whole milk -> butter  \n",
       "63                  butter -> citrus fruit, whole milk  \n",
       "62                  citrus fruit, whole milk -> butter  \n",
       "32           yogurt, root vegetables -> tropical fruit  \n",
       "33           tropical fruit -> yogurt, root vegetables  \n",
       "\n",
       "[220 rows x 11 columns]"
      ]
     },
     "execution_count": 13,
     "metadata": {},
     "output_type": "execute_result"
    }
   ],
   "source": [
    "rules['rules_ass'] = rules.apply(lambda row: f\"{', '.join(row['antecedents'])} -> {', '.join(row['consequents'])}\", axis=1)\n",
    "rules.sort_values(by='lift',ascending=False)\n"
   ]
  },
  {
   "cell_type": "markdown",
   "metadata": {},
   "source": [
    "#### Let's look at top 10 associations based on confidence"
   ]
  },
  {
   "cell_type": "code",
   "execution_count": 24,
   "metadata": {},
   "outputs": [
    {
     "data": {
      "image/png": "[encoded data removed]",
      "text/plain": [
       "<Figure size 1000x600 with 1 Axes>"
      ]
     },
     "metadata": {},
     "output_type": "display_data"
    }
   ],
   "source": [
    "top_rules = rules.nlargest(10, 'confidence')\n",
    "\n",
    "associations = top_rules['rules_ass']\n",
    "con_values = top_rules['confidence']\n",
    "\n",
    "plt.figure(figsize=(10, 6))\n",
    "plt.barh(associations, con_values, color='grey')\n",
    "plt.xlabel('Confidence Value')\n",
    "plt.ylabel('Association Rules')\n",
    "plt.title('Top 10 Association Rules by Confidence')\n",
    "plt.gca().invert_yaxis()\n",
    "plt.tight_layout()\n",
    "\n",
    "plt.show()"
   ]
  },
  {
   "cell_type": "markdown",
   "metadata": {},
   "source": [
    "**Interpreting Confidence Results:**\n",
    "\n",
    "The prominence of the \"Other vegetable\" item within our dataset explains its appearance among the top 7 frequent items. The associations we've identified align with our expectations. For instance, it's logical that customers who purchase fruits and vegetables might also opt for \"Other vegetable\" items. This observation suggests a pattern where customers who buy certain produce items tend to choose other vegetable options as well.\n",
    "\n",
    "Similarly, another meaningful association emerges – customers who purchase various dairy products, such as milk and curd, demonstrate a likelihood to also select yogurt. This connection aligns with common consumption habits and preferences, indicating that customers interested in dairy products extend their choices to include related items.\n",
    "\n",
    "In essence, our analysis is revealing associations that resonate with intuitive shopping behavior, shedding light on purchasing patterns and connections that customers naturally exhibit.\n"
   ]
  },
  {
   "cell_type": "markdown",
   "metadata": {},
   "source": [
    "#### Let's look at top 10 associations based on lift"
   ]
  },
  {
   "cell_type": "code",
   "execution_count": 17,
   "metadata": {},
   "outputs": [
    {
     "data": {
      "image/png": "[encoded data removed]",
      "text/plain": [
       "<Figure size 1000x600 with 1 Axes>"
      ]
     },
     "metadata": {},
     "output_type": "display_data"
    }
   ],
   "source": [
    "top_rules = rules.nlargest(10, 'lift')\n",
    "\n",
    "associations = top_rules['rules_ass']\n",
    "lift_values = top_rules['lift']\n",
    "\n",
    "plt.figure(figsize=(10, 6))\n",
    "plt.barh(associations, lift_values, color='skyblue')\n",
    "plt.xlabel('Lift Value')\n",
    "plt.ylabel('Association Rules')\n",
    "plt.title('Top 10 Association Rules by Lift')\n",
    "plt.gca().invert_yaxis()  # Invert y-axis to display the highest lift at the top\n",
    "plt.tight_layout()\n",
    "\n",
    "plt.show()"
   ]
  },
  {
   "cell_type": "markdown",
   "metadata": {},
   "source": [
    "##### The associations observed based on lift makes sense but we're observing duplicate pairs. Let's clear our data and look at this graph again."
   ]
  },
  {
   "cell_type": "code",
   "execution_count": 18,
   "metadata": {},
   "outputs": [
    {
     "data": {
      "text/html": [
       "<div>\n",
       "<style scoped>\n",
       "    .dataframe tbody tr th:only-of-type {\n",
       "        vertical-align: middle;\n",
       "    }\n",
       "\n",
       "    .dataframe tbody tr th {\n",
       "        vertical-align: top;\n",
       "    }\n",
       "\n",
       "    .dataframe thead th {\n",
       "        text-align: right;\n",
       "    }\n",
       "</style>\n",
       "<table border=\"1\" class=\"dataframe\">\n",
       "  <thead>\n",
       "    <tr style=\"text-align: right;\">\n",
       "      <th></th>\n",
       "      <th>antecedents</th>\n",
       "      <th>consequents</th>\n",
       "      <th>antecedent support</th>\n",
       "      <th>consequent support</th>\n",
       "      <th>support</th>\n",
       "      <th>confidence</th>\n",
       "      <th>lift</th>\n",
       "      <th>leverage</th>\n",
       "      <th>conviction</th>\n",
       "      <th>zhangs_metric</th>\n",
       "      <th>rules_ass</th>\n",
       "      <th>modified_asscn</th>\n",
       "    </tr>\n",
       "  </thead>\n",
       "  <tbody>\n",
       "    <tr>\n",
       "      <th>0</th>\n",
       "      <td>(berries)</td>\n",
       "      <td>(whipped/sour cream)</td>\n",
       "      <td>0.033249</td>\n",
       "      <td>0.071683</td>\n",
       "      <td>0.009049</td>\n",
       "      <td>0.272171</td>\n",
       "      <td>3.796886</td>\n",
       "      <td>0.006666</td>\n",
       "      <td>1.275461</td>\n",
       "      <td>0.761960</td>\n",
       "      <td>berries -&gt; whipped/sour cream</td>\n",
       "      <td>berries, whipped/sour cream</td>\n",
       "    </tr>\n",
       "    <tr>\n",
       "      <th>1</th>\n",
       "      <td>(whipped/sour cream)</td>\n",
       "      <td>(berries)</td>\n",
       "      <td>0.071683</td>\n",
       "      <td>0.033249</td>\n",
       "      <td>0.009049</td>\n",
       "      <td>0.126241</td>\n",
       "      <td>3.796886</td>\n",
       "      <td>0.006666</td>\n",
       "      <td>1.106428</td>\n",
       "      <td>0.793507</td>\n",
       "      <td>whipped/sour cream -&gt; berries</td>\n",
       "      <td>berries, whipped/sour cream</td>\n",
       "    </tr>\n",
       "    <tr>\n",
       "      <th>2</th>\n",
       "      <td>(waffles)</td>\n",
       "      <td>(chocolate)</td>\n",
       "      <td>0.038434</td>\n",
       "      <td>0.049619</td>\n",
       "      <td>0.005796</td>\n",
       "      <td>0.150794</td>\n",
       "      <td>3.039048</td>\n",
       "      <td>0.003889</td>\n",
       "      <td>1.119141</td>\n",
       "      <td>0.697768</td>\n",
       "      <td>waffles -&gt; chocolate</td>\n",
       "      <td>chocolate, waffles</td>\n",
       "    </tr>\n",
       "    <tr>\n",
       "      <th>3</th>\n",
       "      <td>(chocolate)</td>\n",
       "      <td>(waffles)</td>\n",
       "      <td>0.049619</td>\n",
       "      <td>0.038434</td>\n",
       "      <td>0.005796</td>\n",
       "      <td>0.116803</td>\n",
       "      <td>3.039048</td>\n",
       "      <td>0.003889</td>\n",
       "      <td>1.088733</td>\n",
       "      <td>0.705979</td>\n",
       "      <td>chocolate -&gt; waffles</td>\n",
       "      <td>chocolate, waffles</td>\n",
       "    </tr>\n",
       "    <tr>\n",
       "      <th>4</th>\n",
       "      <td>(frozen vegetables)</td>\n",
       "      <td>(chicken)</td>\n",
       "      <td>0.048094</td>\n",
       "      <td>0.042908</td>\n",
       "      <td>0.006711</td>\n",
       "      <td>0.139535</td>\n",
       "      <td>3.251956</td>\n",
       "      <td>0.004647</td>\n",
       "      <td>1.112296</td>\n",
       "      <td>0.727480</td>\n",
       "      <td>frozen vegetables -&gt; chicken</td>\n",
       "      <td>chicken, frozen vegetables</td>\n",
       "    </tr>\n",
       "  </tbody>\n",
       "</table>\n",
       "</div>"
      ],
      "text/plain": [
       "            antecedents           consequents  antecedent support  \\\n",
       "0             (berries)  (whipped/sour cream)            0.033249   \n",
       "1  (whipped/sour cream)             (berries)            0.071683   \n",
       "2             (waffles)           (chocolate)            0.038434   \n",
       "3           (chocolate)             (waffles)            0.049619   \n",
       "4   (frozen vegetables)             (chicken)            0.048094   \n",
       "\n",
       "   consequent support   support  confidence      lift  leverage  conviction  \\\n",
       "0            0.071683  0.009049    0.272171  3.796886  0.006666    1.275461   \n",
       "1            0.033249  0.009049    0.126241  3.796886  0.006666    1.106428   \n",
       "2            0.049619  0.005796    0.150794  3.039048  0.003889    1.119141   \n",
       "3            0.038434  0.005796    0.116803  3.039048  0.003889    1.088733   \n",
       "4            0.042908  0.006711    0.139535  3.251956  0.004647    1.112296   \n",
       "\n",
       "   zhangs_metric                      rules_ass               modified_asscn  \n",
       "0       0.761960  berries -> whipped/sour cream  berries, whipped/sour cream  \n",
       "1       0.793507  whipped/sour cream -> berries  berries, whipped/sour cream  \n",
       "2       0.697768           waffles -> chocolate           chocolate, waffles  \n",
       "3       0.705979           chocolate -> waffles           chocolate, waffles  \n",
       "4       0.727480   frozen vegetables -> chicken   chicken, frozen vegetables  "
      ]
     },
     "execution_count": 18,
     "metadata": {},
     "output_type": "execute_result"
    }
   ],
   "source": [
    "# Create a new column with modified association\n",
    "rules['modified_asscn'] = rules.apply(lambda row: ', '.join(sorted(row['antecedents'] | row['consequents'])), axis=1)\n",
    "rules2 = rules.copy()"
   ]
  },
  {
   "cell_type": "code",
   "execution_count": 20,
   "metadata": {},
   "outputs": [
    {
     "data": {
      "text/html": [
       "<div>\n",
       "<style scoped>\n",
       "    .dataframe tbody tr th:only-of-type {\n",
       "        vertical-align: middle;\n",
       "    }\n",
       "\n",
       "    .dataframe tbody tr th {\n",
       "        vertical-align: top;\n",
       "    }\n",
       "\n",
       "    .dataframe thead th {\n",
       "        text-align: right;\n",
       "    }\n",
       "</style>\n",
       "<table border=\"1\" class=\"dataframe\">\n",
       "  <thead>\n",
       "    <tr style=\"text-align: right;\">\n",
       "      <th></th>\n",
       "      <th>antecedents</th>\n",
       "      <th>consequents</th>\n",
       "      <th>antecedent support</th>\n",
       "      <th>consequent support</th>\n",
       "      <th>support</th>\n",
       "      <th>confidence</th>\n",
       "      <th>lift</th>\n",
       "      <th>leverage</th>\n",
       "      <th>conviction</th>\n",
       "      <th>zhangs_metric</th>\n",
       "      <th>rules_ass</th>\n",
       "      <th>modified_asscn</th>\n",
       "    </tr>\n",
       "  </thead>\n",
       "  <tbody>\n",
       "    <tr>\n",
       "      <th>0</th>\n",
       "      <td>(berries)</td>\n",
       "      <td>(whipped/sour cream)</td>\n",
       "      <td>0.033249</td>\n",
       "      <td>0.071683</td>\n",
       "      <td>0.009049</td>\n",
       "      <td>0.272171</td>\n",
       "      <td>3.796886</td>\n",
       "      <td>0.006666</td>\n",
       "      <td>1.275461</td>\n",
       "      <td>0.761960</td>\n",
       "      <td>berries -&gt; whipped/sour cream</td>\n",
       "      <td>berries, whipped/sour cream</td>\n",
       "    </tr>\n",
       "    <tr>\n",
       "      <th>2</th>\n",
       "      <td>(waffles)</td>\n",
       "      <td>(chocolate)</td>\n",
       "      <td>0.038434</td>\n",
       "      <td>0.049619</td>\n",
       "      <td>0.005796</td>\n",
       "      <td>0.150794</td>\n",
       "      <td>3.039048</td>\n",
       "      <td>0.003889</td>\n",
       "      <td>1.119141</td>\n",
       "      <td>0.697768</td>\n",
       "      <td>waffles -&gt; chocolate</td>\n",
       "      <td>chocolate, waffles</td>\n",
       "    </tr>\n",
       "    <tr>\n",
       "      <th>4</th>\n",
       "      <td>(frozen vegetables)</td>\n",
       "      <td>(chicken)</td>\n",
       "      <td>0.048094</td>\n",
       "      <td>0.042908</td>\n",
       "      <td>0.006711</td>\n",
       "      <td>0.139535</td>\n",
       "      <td>3.251956</td>\n",
       "      <td>0.004647</td>\n",
       "      <td>1.112296</td>\n",
       "      <td>0.727480</td>\n",
       "      <td>frozen vegetables -&gt; chicken</td>\n",
       "      <td>chicken, frozen vegetables</td>\n",
       "    </tr>\n",
       "    <tr>\n",
       "      <th>6</th>\n",
       "      <td>(white bread)</td>\n",
       "      <td>(ham)</td>\n",
       "      <td>0.042095</td>\n",
       "      <td>0.026029</td>\n",
       "      <td>0.005084</td>\n",
       "      <td>0.120773</td>\n",
       "      <td>4.639851</td>\n",
       "      <td>0.003988</td>\n",
       "      <td>1.107758</td>\n",
       "      <td>0.818949</td>\n",
       "      <td>white bread -&gt; ham</td>\n",
       "      <td>ham, white bread</td>\n",
       "    </tr>\n",
       "    <tr>\n",
       "      <th>8</th>\n",
       "      <td>(napkins)</td>\n",
       "      <td>(hygiene articles)</td>\n",
       "      <td>0.052364</td>\n",
       "      <td>0.032944</td>\n",
       "      <td>0.006101</td>\n",
       "      <td>0.116505</td>\n",
       "      <td>3.536498</td>\n",
       "      <td>0.004376</td>\n",
       "      <td>1.094580</td>\n",
       "      <td>0.756867</td>\n",
       "      <td>napkins -&gt; hygiene articles</td>\n",
       "      <td>hygiene articles, napkins</td>\n",
       "    </tr>\n",
       "  </tbody>\n",
       "</table>\n",
       "</div>"
      ],
      "text/plain": [
       "           antecedents           consequents  antecedent support  \\\n",
       "0            (berries)  (whipped/sour cream)            0.033249   \n",
       "2            (waffles)           (chocolate)            0.038434   \n",
       "4  (frozen vegetables)             (chicken)            0.048094   \n",
       "6        (white bread)                 (ham)            0.042095   \n",
       "8            (napkins)    (hygiene articles)            0.052364   \n",
       "\n",
       "   consequent support   support  confidence      lift  leverage  conviction  \\\n",
       "0            0.071683  0.009049    0.272171  3.796886  0.006666    1.275461   \n",
       "2            0.049619  0.005796    0.150794  3.039048  0.003889    1.119141   \n",
       "4            0.042908  0.006711    0.139535  3.251956  0.004647    1.112296   \n",
       "6            0.026029  0.005084    0.120773  4.639851  0.003988    1.107758   \n",
       "8            0.032944  0.006101    0.116505  3.536498  0.004376    1.094580   \n",
       "\n",
       "   zhangs_metric                      rules_ass               modified_asscn  \n",
       "0       0.761960  berries -> whipped/sour cream  berries, whipped/sour cream  \n",
       "2       0.697768           waffles -> chocolate           chocolate, waffles  \n",
       "4       0.727480   frozen vegetables -> chicken   chicken, frozen vegetables  \n",
       "6       0.818949             white bread -> ham             ham, white bread  \n",
       "8       0.756867    napkins -> hygiene articles    hygiene articles, napkins  "
      ]
     },
     "execution_count": 20,
     "metadata": {},
     "output_type": "execute_result"
    }
   ],
   "source": [
    "rules2 = rules.drop_duplicates(subset='modified_asscn')\n",
    "rules2.head()"
   ]
  },
  {
   "cell_type": "code",
   "execution_count": 21,
   "metadata": {},
   "outputs": [
    {
     "data": {
      "image/png": "[encoded data removed]",
      "text/plain": [
       "<Figure size 1000x600 with 1 Axes>"
      ]
     },
     "metadata": {},
     "output_type": "display_data"
    }
   ],
   "source": [
    "top_rules = rules2.nlargest(10, 'lift')\n",
    "\n",
    "associations = top_rules['rules_ass']\n",
    "lift_values = top_rules['lift']\n",
    "\n",
    "plt.figure(figsize=(10, 6))\n",
    "plt.barh(associations, lift_values, color='skyblue')\n",
    "plt.xlabel('Lift Value')\n",
    "plt.ylabel('Association Rules')\n",
    "plt.title('Top 10 Association Rules by Lift')\n",
    "plt.gca().invert_yaxis()  # Invert y-axis to display the highest lift at the top\n",
    "plt.tight_layout()\n",
    "\n",
    "plt.show()"
   ]
  },
  {
   "cell_type": "markdown",
   "metadata": {},
   "source": [
    "**Intuitive Association Insights:**\n",
    "\n",
    "The associations we've observed through our analysis align well with natural customer shopping behaviors. A prime example of this is the association between customers purchasing bread and their potential interest in ham. This connection is intuitive – customers buying bread are likely considering making sandwiches, hence the inclination to buy ham as well.\n",
    "\n",
    "Moreover, our findings also underscore common purchasing patterns, such as the frequent association between customers selecting fruits and vegetables. This behavior mirrors the well-known trend of customers opting for a variety of produce items in a single shopping trip.\n",
    "\n",
    "Additionally, our analysis reveals consistent connections among various dairy products. The tendency for customers to choose multiple dairy items, such as milk, curd, and yogurt, reaffirms the familiar preference for stocking up\n"
   ]
  },
  {
   "cell_type": "markdown",
   "metadata": {},
   "source": [
    "#### Let's look at top 10 associations based on support"
   ]
  },
  {
   "cell_type": "code",
   "execution_count": 25,
   "metadata": {},
   "outputs": [
    {
     "data": {
      "image/png": "[encoded data removed]",
      "text/plain": [
       "<Figure size 1000x600 with 1 Axes>"
      ]
     },
     "metadata": {},
     "output_type": "display_data"
    }
   ],
   "source": [
    "top_rules = rules2.nlargest(10, 'support')\n",
    "\n",
    "associations = top_rules['rules_ass']\n",
    "sup_values = top_rules['support']\n",
    "\n",
    "plt.figure(figsize=(10, 6))\n",
    "plt.barh(associations, sup_values, color='orange')\n",
    "plt.xlabel('Support Value')\n",
    "plt.ylabel('Association Rules')\n",
    "plt.title('Top 10 Association Rules by Support')\n",
    "plt.gca().invert_yaxis()  # Invert y-axis to display the highest lift at the top\n",
    "plt.tight_layout()\n",
    "\n",
    "plt.show()"
   ]
  },
  {
   "cell_type": "markdown",
   "metadata": {},
   "source": [
    "**Support-Based Rule Validation:**\n",
    "\n",
    "Upon examining the association rules through the lens of support, our initial findings are validated once again. The observed association rules align seamlessly with anticipated natural customer shopping behavior. The notion that customers who purchase specific items tend to opt for related items as well is reinforced by the support values.\n",
    "\n",
    "The support-based analysis underscores the consistent patterns we've uncovered – from the connection between bread and ham for sandwiches to the link between various dairy products. These associations, verified by their support values, mirror the predictable choices that customers make while shopping.\n",
    "\n",
    "In essence, the support-based rule validation strengthens our confidence in the accuracy and significance of the observed association rules, which faithfully reflect the intuitive and expected shopping behavior of customers.\n"
   ]
  }
 ],
 "metadata": {
  "kernelspec": {
   "display_name": "base",
   "language": "python",
   "name": "python3"
  },
  "language_info": {
   "codemirror_mode": {
    "name": "ipython",
    "version": 3
   },
   "file_extension": ".py",
   "mimetype": "text/x-python",
   "name": "python",
   "nbconvert_exporter": "python",
   "pygments_lexer": "ipython3",
   "version": "3.10.9"
  },
  "orig_nbformat": 4
 },
 "nbformat": 4,
 "nbformat_minor": 2
}
