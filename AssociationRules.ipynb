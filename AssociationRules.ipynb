{
 "cells": [
  {
   "cell_type": "code",
   "execution_count": 8,
   "metadata": {},
   "outputs": [
    {
     "name": "stdout",
     "output_type": "stream",
     "text": [
      "Collecting apyori\n",
      "  Downloading apyori-1.1.2.tar.gz (8.6 kB)\n",
      "  Preparing metadata (setup.py) ... \u001b[?25ldone\n",
      "\u001b[?25hBuilding wheels for collected packages: apyori\n",
      "  Building wheel for apyori (setup.py) ... \u001b[?25ldone\n",
      "\u001b[?25h  Created wheel for apyori: filename=apyori-1.1.2-py3-none-any.whl size=5955 sha256=05e4664fdf0a7cb4c9abda34937d6eb95299ee1be49ec455ad7f29bc847b9427\n",
      "  Stored in directory: /Users/milindbhatia/Library/Caches/pip/wheels/84/45/a4/8ade6576f75410d8162c6da1de0aa9df56c16c711acab5a813\n",
      "Successfully built apyori\n",
      "Installing collected packages: apyori\n",
      "Successfully installed apyori-1.1.2\n",
      "Note: you may need to restart the kernel to use updated packages.\n"
     ]
    }
   ],
   "source": [
    "pip install apyori"
   ]
  },
  {
   "cell_type": "code",
   "execution_count": 21,
   "metadata": {},
   "outputs": [
    {
     "name": "stdout",
     "output_type": "stream",
     "text": [
      "Collecting mlxtend\n",
      "  Downloading mlxtend-0.22.0-py2.py3-none-any.whl (1.4 MB)\n",
      "\u001b[2K     \u001b[90m━━━━━━━━━━━━━━━━━━━━━━━━━━━━━━━━━━━━━━━━\u001b[0m \u001b[32m1.4/1.4 MB\u001b[0m \u001b[31m7.7 MB/s\u001b[0m eta \u001b[36m0:00:00\u001b[0ma \u001b[36m0:00:01\u001b[0m\n",
      "\u001b[?25hRequirement already satisfied: pandas>=0.24.2 in /Users/milindbhatia/anaconda3/lib/python3.10/site-packages (from mlxtend) (1.5.3)\n",
      "Requirement already satisfied: joblib>=0.13.2 in /Users/milindbhatia/anaconda3/lib/python3.10/site-packages (from mlxtend) (1.1.1)\n",
      "Requirement already satisfied: matplotlib>=3.0.0 in /Users/milindbhatia/anaconda3/lib/python3.10/site-packages (from mlxtend) (3.7.0)\n",
      "Requirement already satisfied: numpy>=1.16.2 in /Users/milindbhatia/anaconda3/lib/python3.10/site-packages (from mlxtend) (1.25.1)\n",
      "Requirement already satisfied: scikit-learn>=1.0.2 in /Users/milindbhatia/anaconda3/lib/python3.10/site-packages (from mlxtend) (1.2.1)\n",
      "Requirement already satisfied: scipy>=1.2.1 in /Users/milindbhatia/anaconda3/lib/python3.10/site-packages (from mlxtend) (1.11.1)\n",
      "Requirement already satisfied: setuptools in /Users/milindbhatia/anaconda3/lib/python3.10/site-packages (from mlxtend) (65.6.3)\n",
      "Requirement already satisfied: pyparsing>=2.3.1 in /Users/milindbhatia/anaconda3/lib/python3.10/site-packages (from matplotlib>=3.0.0->mlxtend) (3.0.9)\n",
      "Requirement already satisfied: pillow>=6.2.0 in /Users/milindbhatia/anaconda3/lib/python3.10/site-packages (from matplotlib>=3.0.0->mlxtend) (9.4.0)\n",
      "Requirement already satisfied: contourpy>=1.0.1 in /Users/milindbhatia/anaconda3/lib/python3.10/site-packages (from matplotlib>=3.0.0->mlxtend) (1.0.5)\n",
      "Requirement already satisfied: kiwisolver>=1.0.1 in /Users/milindbhatia/anaconda3/lib/python3.10/site-packages (from matplotlib>=3.0.0->mlxtend) (1.4.4)\n",
      "Requirement already satisfied: python-dateutil>=2.7 in /Users/milindbhatia/anaconda3/lib/python3.10/site-packages (from matplotlib>=3.0.0->mlxtend) (2.8.2)\n",
      "Requirement already satisfied: fonttools>=4.22.0 in /Users/milindbhatia/anaconda3/lib/python3.10/site-packages (from matplotlib>=3.0.0->mlxtend) (4.25.0)\n",
      "Requirement already satisfied: cycler>=0.10 in /Users/milindbhatia/anaconda3/lib/python3.10/site-packages (from matplotlib>=3.0.0->mlxtend) (0.11.0)\n",
      "Requirement already satisfied: packaging>=20.0 in /Users/milindbhatia/anaconda3/lib/python3.10/site-packages (from matplotlib>=3.0.0->mlxtend) (22.0)\n",
      "Requirement already satisfied: pytz>=2020.1 in /Users/milindbhatia/anaconda3/lib/python3.10/site-packages (from pandas>=0.24.2->mlxtend) (2022.7)\n",
      "Requirement already satisfied: threadpoolctl>=2.0.0 in /Users/milindbhatia/anaconda3/lib/python3.10/site-packages (from scikit-learn>=1.0.2->mlxtend) (2.2.0)\n",
      "Requirement already satisfied: six>=1.5 in /Users/milindbhatia/anaconda3/lib/python3.10/site-packages (from python-dateutil>=2.7->matplotlib>=3.0.0->mlxtend) (1.16.0)\n",
      "Installing collected packages: mlxtend\n",
      "Successfully installed mlxtend-0.22.0\n",
      "Note: you may need to restart the kernel to use updated packages.\n"
     ]
    }
   ],
   "source": [
    "pip install mlxtend"
   ]
  },
  {
   "cell_type": "code",
   "execution_count": 33,
   "metadata": {},
   "outputs": [
    {
     "name": "stderr",
     "output_type": "stream",
     "text": [
      "/Users/milindbhatia/anaconda3/lib/python3.10/site-packages/plotly/express/imshow_utils.py:24: DeprecationWarning:\n",
      "\n",
      "`np.bool8` is a deprecated alias for `np.bool_`.  (Deprecated NumPy 1.24)\n",
      "\n"
     ]
    }
   ],
   "source": [
    "import numpy as np\n",
    "import pandas as pd\n",
    "from mlxtend.frequent_patterns import apriori, association_rules\n",
    "import plotly.express as px"
   ]
  },
  {
   "cell_type": "code",
   "execution_count": 5,
   "metadata": {},
   "outputs": [],
   "source": [
    "#Reading the file\n",
    "\n",
    "file_p = '/Users/milindbhatia/Desktop/Study/Summer/Intro to ML/Take Home - Group Assignment/Intro-to-ML-project/Data/groceries.txt'\n",
    "data_items = []\n",
    "\n",
    "with open(file_p,'r') as f:\n",
    "    for line in f:\n",
    "        items = line.strip().split(',')\n",
    "        data_items.append(items)"
   ]
  },
  {
   "cell_type": "code",
   "execution_count": 24,
   "metadata": {},
   "outputs": [
    {
     "name": "stdout",
     "output_type": "stream",
     "text": [
      "      abrasive cleaner  pot plants  flour  hamburger meat  cooking chocolate  \\\n",
      "0                False       False  False           False              False   \n",
      "1                False       False  False           False              False   \n",
      "2                False       False  False           False              False   \n",
      "3                False       False  False           False              False   \n",
      "4                False       False  False           False              False   \n",
      "...                ...         ...    ...             ...                ...   \n",
      "9830             False       False   True            True              False   \n",
      "9831             False       False  False           False               True   \n",
      "9832             False       False  False           False              False   \n",
      "9833             False       False  False           False              False   \n",
      "9834             False       False  False           False              False   \n",
      "\n",
      "       soap  finished products  dessert  packaged fruit/vegetables  pasta  \\\n",
      "0     False              False    False                      False  False   \n",
      "1     False              False    False                      False  False   \n",
      "2     False              False    False                      False  False   \n",
      "3     False              False    False                      False  False   \n",
      "4     False              False    False                      False  False   \n",
      "...     ...                ...      ...                        ...    ...   \n",
      "9830  False              False    False                      False  False   \n",
      "9831  False              False    False                      False  False   \n",
      "9832  False              False    False                      False  False   \n",
      "9833  False              False    False                      False  False   \n",
      "9834  False              False    False                      False  False   \n",
      "\n",
      "      ...  brown bread  bottled beer  flower (seeds)  snack products  \\\n",
      "0     ...        False         False           False           False   \n",
      "1     ...        False         False           False           False   \n",
      "2     ...        False         False           False           False   \n",
      "3     ...        False         False           False           False   \n",
      "4     ...        False         False           False           False   \n",
      "...   ...          ...           ...             ...             ...   \n",
      "9830  ...        False         False           False           False   \n",
      "9831  ...        False         False           False           False   \n",
      "9832  ...        False         False           False           False   \n",
      "9833  ...        False          True           False           False   \n",
      "9834  ...        False         False           False           False   \n",
      "\n",
      "      long life bakery product  ketchup  pastry  canned beer  baking powder  \\\n",
      "0                        False    False   False        False          False   \n",
      "1                        False    False   False        False          False   \n",
      "2                        False    False   False        False          False   \n",
      "3                        False    False   False        False          False   \n",
      "4                         True    False   False        False          False   \n",
      "...                        ...      ...     ...          ...            ...   \n",
      "9830                     False    False   False        False          False   \n",
      "9831                     False    False   False        False          False   \n",
      "9832                     False    False   False        False          False   \n",
      "9833                     False    False   False        False          False   \n",
      "9834                     False    False   False        False          False   \n",
      "\n",
      "      frankfurter  \n",
      "0           False  \n",
      "1           False  \n",
      "2           False  \n",
      "3           False  \n",
      "4           False  \n",
      "...           ...  \n",
      "9830        False  \n",
      "9831        False  \n",
      "9832        False  \n",
      "9833        False  \n",
      "9834        False  \n",
      "\n",
      "[9835 rows x 171 columns]\n"
     ]
    }
   ],
   "source": [
    "unique_items = set(item for sublist in data_items for item in sublist)\n",
    "\n",
    "# Initialize an empty dictionary to store the data\n",
    "data_dict = {item: [] for item in unique_items}\n",
    "\n",
    "# Populate the dictionary with True/False values\n",
    "for item in unique_items:\n",
    "    for sublist in data_items:\n",
    "        data_dict[item].append(item in sublist)\n",
    "\n",
    "# Create a DataFrame from the dictionary\n",
    "df = pd.DataFrame(data_dict)"
   ]
  },
  {
   "cell_type": "code",
   "execution_count": 31,
   "metadata": {},
   "outputs": [
    {
     "data": {
      "text/html": [
       "<div>\n",
       "<style scoped>\n",
       "    .dataframe tbody tr th:only-of-type {\n",
       "        vertical-align: middle;\n",
       "    }\n",
       "\n",
       "    .dataframe tbody tr th {\n",
       "        vertical-align: top;\n",
       "    }\n",
       "\n",
       "    .dataframe thead th {\n",
       "        text-align: right;\n",
       "    }\n",
       "</style>\n",
       "<table border=\"1\" class=\"dataframe\">\n",
       "  <thead>\n",
       "    <tr style=\"text-align: right;\">\n",
       "      <th></th>\n",
       "      <th>Item</th>\n",
       "      <th>Frequency</th>\n",
       "    </tr>\n",
       "  </thead>\n",
       "  <tbody>\n",
       "    <tr>\n",
       "      <th>0</th>\n",
       "      <td>whole milk</td>\n",
       "      <td>2513</td>\n",
       "    </tr>\n",
       "    <tr>\n",
       "      <th>1</th>\n",
       "      <td>other vegetables</td>\n",
       "      <td>1903</td>\n",
       "    </tr>\n",
       "    <tr>\n",
       "      <th>2</th>\n",
       "      <td>rolls/buns</td>\n",
       "      <td>1809</td>\n",
       "    </tr>\n",
       "    <tr>\n",
       "      <th>3</th>\n",
       "      <td>soda</td>\n",
       "      <td>1715</td>\n",
       "    </tr>\n",
       "    <tr>\n",
       "      <th>4</th>\n",
       "      <td>yogurt</td>\n",
       "      <td>1372</td>\n",
       "    </tr>\n",
       "    <tr>\n",
       "      <th>5</th>\n",
       "      <td>bottled water</td>\n",
       "      <td>1087</td>\n",
       "    </tr>\n",
       "    <tr>\n",
       "      <th>6</th>\n",
       "      <td>root vegetables</td>\n",
       "      <td>1072</td>\n",
       "    </tr>\n",
       "    <tr>\n",
       "      <th>7</th>\n",
       "      <td>tropical fruit</td>\n",
       "      <td>1032</td>\n",
       "    </tr>\n",
       "    <tr>\n",
       "      <th>8</th>\n",
       "      <td>shopping bags</td>\n",
       "      <td>969</td>\n",
       "    </tr>\n",
       "    <tr>\n",
       "      <th>9</th>\n",
       "      <td>sausage</td>\n",
       "      <td>924</td>\n",
       "    </tr>\n",
       "    <tr>\n",
       "      <th>10</th>\n",
       "      <td>pastry</td>\n",
       "      <td>875</td>\n",
       "    </tr>\n",
       "    <tr>\n",
       "      <th>11</th>\n",
       "      <td>citrus fruit</td>\n",
       "      <td>814</td>\n",
       "    </tr>\n",
       "    <tr>\n",
       "      <th>12</th>\n",
       "      <td>bottled beer</td>\n",
       "      <td>792</td>\n",
       "    </tr>\n",
       "    <tr>\n",
       "      <th>13</th>\n",
       "      <td>newspapers</td>\n",
       "      <td>785</td>\n",
       "    </tr>\n",
       "    <tr>\n",
       "      <th>14</th>\n",
       "      <td>canned beer</td>\n",
       "      <td>764</td>\n",
       "    </tr>\n",
       "    <tr>\n",
       "      <th>15</th>\n",
       "      <td>pip fruit</td>\n",
       "      <td>744</td>\n",
       "    </tr>\n",
       "    <tr>\n",
       "      <th>16</th>\n",
       "      <td>fruit/vegetable juice</td>\n",
       "      <td>711</td>\n",
       "    </tr>\n",
       "    <tr>\n",
       "      <th>17</th>\n",
       "      <td>whipped/sour cream</td>\n",
       "      <td>705</td>\n",
       "    </tr>\n",
       "    <tr>\n",
       "      <th>18</th>\n",
       "      <td>brown bread</td>\n",
       "      <td>638</td>\n",
       "    </tr>\n",
       "    <tr>\n",
       "      <th>19</th>\n",
       "      <td>domestic eggs</td>\n",
       "      <td>624</td>\n",
       "    </tr>\n",
       "  </tbody>\n",
       "</table>\n",
       "</div>"
      ],
      "text/plain": [
       "                     Item  Frequency\n",
       "0              whole milk       2513\n",
       "1        other vegetables       1903\n",
       "2              rolls/buns       1809\n",
       "3                    soda       1715\n",
       "4                  yogurt       1372\n",
       "5           bottled water       1087\n",
       "6         root vegetables       1072\n",
       "7          tropical fruit       1032\n",
       "8           shopping bags        969\n",
       "9                 sausage        924\n",
       "10                 pastry        875\n",
       "11           citrus fruit        814\n",
       "12           bottled beer        792\n",
       "13             newspapers        785\n",
       "14            canned beer        764\n",
       "15              pip fruit        744\n",
       "16  fruit/vegetable juice        711\n",
       "17     whipped/sour cream        705\n",
       "18            brown bread        638\n",
       "19          domestic eggs        624"
      ]
     },
     "execution_count": 31,
     "metadata": {},
     "output_type": "execute_result"
    }
   ],
   "source": [
    "all_items = [item for sublist in data_items for item in sublist]\n",
    "\n",
    "item_counts = pd.Series(all_items).value_counts()\n",
    "\n",
    "freq_df = pd.DataFrame({'Item': item_counts.index, 'Frequency': item_counts.values})\n",
    "\n",
    "freq_df.head(20)"
   ]
  },
  {
   "cell_type": "code",
   "execution_count": 35,
   "metadata": {},
   "outputs": [
    {
     "name": "stderr",
     "output_type": "stream",
     "text": [
      "/Users/milindbhatia/anaconda3/lib/python3.10/site-packages/pandas/core/dtypes/cast.py:1641: DeprecationWarning:\n",
      "\n",
      "np.find_common_type is deprecated.  Please use `np.result_type` or `np.promote_types`.\n",
      "See https://numpy.org/devdocs/release/1.25.0-notes.html and the docs for more information.  (Deprecated NumPy 1.25)\n",
      "\n",
      "/Users/milindbhatia/anaconda3/lib/python3.10/site-packages/pandas/core/dtypes/cast.py:1641: DeprecationWarning:\n",
      "\n",
      "np.find_common_type is deprecated.  Please use `np.result_type` or `np.promote_types`.\n",
      "See https://numpy.org/devdocs/release/1.25.0-notes.html and the docs for more information.  (Deprecated NumPy 1.25)\n",
      "\n",
      "/Users/milindbhatia/anaconda3/lib/python3.10/site-packages/pandas/core/dtypes/cast.py:1641: DeprecationWarning:\n",
      "\n",
      "np.find_common_type is deprecated.  Please use `np.result_type` or `np.promote_types`.\n",
      "See https://numpy.org/devdocs/release/1.25.0-notes.html and the docs for more information.  (Deprecated NumPy 1.25)\n",
      "\n",
      "/Users/milindbhatia/anaconda3/lib/python3.10/site-packages/plotly/io/_renderers.py:395: DeprecationWarning:\n",
      "\n",
      "distutils Version classes are deprecated. Use packaging.version instead.\n",
      "\n",
      "/Users/milindbhatia/anaconda3/lib/python3.10/site-packages/plotly/io/_renderers.py:395: DeprecationWarning:\n",
      "\n",
      "distutils Version classes are deprecated. Use packaging.version instead.\n",
      "\n"
     ]
    },
    {
     "data": {
      "application/vnd.plotly.v1+json": {
       "config": {
        "plotlyServerURL": "https://plot.ly"
       },
       "data": [
        {
         "branchvalues": "total",
         "customdata": [
          [
           516,
           516
          ],
          [
           792,
           792
          ],
          [
           1087,
           1087
          ],
          [
           638,
           638
          ],
          [
           545,
           545
          ],
          [
           764,
           764
          ],
          [
           488,
           488
          ],
          [
           814,
           814
          ],
          [
           571,
           571
          ],
          [
           524,
           524
          ],
          [
           624,
           624
          ],
          [
           580,
           580
          ],
          [
           473,
           473
          ],
          [
           711,
           711
          ],
          [
           576,
           576
          ],
          [
           515,
           515
          ],
          [
           785,
           785
          ],
          [
           1903,
           1903
          ],
          [
           875,
           875
          ],
          [
           744,
           744
          ],
          [
           567,
           567
          ],
          [
           1809,
           1809
          ],
          [
           1072,
           1072
          ],
          [
           924,
           924
          ],
          [
           969,
           969
          ],
          [
           1715,
           1715
          ],
          [
           1032,
           1032
          ],
          [
           705,
           705
          ],
          [
           2513,
           2513
          ],
          [
           1372,
           1372
          ]
         ],
         "domain": {
          "x": [
           0,
           1
          ],
          "y": [
           0,
           1
          ]
         },
         "hovertemplate": "labels=%{label}<br>Frequency_sum=%{value}<br>parent=%{parent}<br>id=%{id}<br>Frequency=%{color}<extra></extra>",
         "ids": [
          "beef",
          "bottled beer",
          "bottled water",
          "brown bread",
          "butter",
          "canned beer",
          "chocolate",
          "citrus fruit",
          "coffee",
          "curd",
          "domestic eggs",
          "frankfurter",
          "frozen vegetables",
          "fruit/vegetable juice",
          "margarine",
          "napkins",
          "newspapers",
          "other vegetables",
          "pastry",
          "pip fruit",
          "pork",
          "rolls/buns",
          "root vegetables",
          "sausage",
          "shopping bags",
          "soda",
          "tropical fruit",
          "whipped/sour cream",
          "whole milk",
          "yogurt"
         ],
         "labels": [
          "beef",
          "bottled beer",
          "bottled water",
          "brown bread",
          "butter",
          "canned beer",
          "chocolate",
          "citrus fruit",
          "coffee",
          "curd",
          "domestic eggs",
          "frankfurter",
          "frozen vegetables",
          "fruit/vegetable juice",
          "margarine",
          "napkins",
          "newspapers",
          "other vegetables",
          "pastry",
          "pip fruit",
          "pork",
          "rolls/buns",
          "root vegetables",
          "sausage",
          "shopping bags",
          "soda",
          "tropical fruit",
          "whipped/sour cream",
          "whole milk",
          "yogurt"
         ],
         "marker": {
          "coloraxis": "coloraxis",
          "colors": [
           516,
           792,
           1087,
           638,
           545,
           764,
           488,
           814,
           571,
           524,
           624,
           580,
           473,
           711,
           576,
           515,
           785,
           1903,
           875,
           744,
           567,
           1809,
           1072,
           924,
           969,
           1715,
           1032,
           705,
           2513,
           1372
          ]
         },
         "name": "",
         "parents": [
          "",
          "",
          "",
          "",
          "",
          "",
          "",
          "",
          "",
          "",
          "",
          "",
          "",
          "",
          "",
          "",
          "",
          "",
          "",
          "",
          "",
          "",
          "",
          "",
          "",
          "",
          "",
          "",
          "",
          ""
         ],
         "type": "treemap",
         "values": [
          516,
          792,
          1087,
          638,
          545,
          764,
          488,
          814,
          571,
          524,
          624,
          580,
          473,
          711,
          576,
          515,
          785,
          1903,
          875,
          744,
          567,
          1809,
          1072,
          924,
          969,
          1715,
          1032,
          705,
          2513,
          1372
         ]
        }
       ],
       "layout": {
        "coloraxis": {
         "colorbar": {
          "title": {
           "text": "Frequency"
          }
         },
         "colorscale": [
          [
           0,
           "#440154"
          ],
          [
           0.1111111111111111,
           "#482878"
          ],
          [
           0.2222222222222222,
           "#3e4989"
          ],
          [
           0.3333333333333333,
           "#31688e"
          ],
          [
           0.4444444444444444,
           "#26828e"
          ],
          [
           0.5555555555555556,
           "#1f9e89"
          ],
          [
           0.6666666666666666,
           "#35b779"
          ],
          [
           0.7777777777777778,
           "#6ece58"
          ],
          [
           0.8888888888888888,
           "#b5de2b"
          ],
          [
           1,
           "#fde725"
          ]
         ]
        },
        "legend": {
         "tracegroupgap": 0
        },
        "template": {
         "data": {
          "bar": [
           {
            "error_x": {
             "color": "#2a3f5f"
            },
            "error_y": {
             "color": "#2a3f5f"
            },
            "marker": {
             "line": {
              "color": "#E5ECF6",
              "width": 0.5
             },
             "pattern": {
              "fillmode": "overlay",
              "size": 10,
              "solidity": 0.2
             }
            },
            "type": "bar"
           }
          ],
          "barpolar": [
           {
            "marker": {
             "line": {
              "color": "#E5ECF6",
              "width": 0.5
             },
             "pattern": {
              "fillmode": "overlay",
              "size": 10,
              "solidity": 0.2
             }
            },
            "type": "barpolar"
           }
          ],
          "carpet": [
           {
            "aaxis": {
             "endlinecolor": "#2a3f5f",
             "gridcolor": "white",
             "linecolor": "white",
             "minorgridcolor": "white",
             "startlinecolor": "#2a3f5f"
            },
            "baxis": {
             "endlinecolor": "#2a3f5f",
             "gridcolor": "white",
             "linecolor": "white",
             "minorgridcolor": "white",
             "startlinecolor": "#2a3f5f"
            },
            "type": "carpet"
           }
          ],
          "choropleth": [
           {
            "colorbar": {
             "outlinewidth": 0,
             "ticks": ""
            },
            "type": "choropleth"
           }
          ],
          "contour": [
           {
            "colorbar": {
             "outlinewidth": 0,
             "ticks": ""
            },
            "colorscale": [
             [
              0,
              "#0d0887"
             ],
             [
              0.1111111111111111,
              "#46039f"
             ],
             [
              0.2222222222222222,
              "#7201a8"
             ],
             [
              0.3333333333333333,
              "#9c179e"
             ],
             [
              0.4444444444444444,
              "#bd3786"
             ],
             [
              0.5555555555555556,
              "#d8576b"
             ],
             [
              0.6666666666666666,
              "#ed7953"
             ],
             [
              0.7777777777777778,
              "#fb9f3a"
             ],
             [
              0.8888888888888888,
              "#fdca26"
             ],
             [
              1,
              "#f0f921"
             ]
            ],
            "type": "contour"
           }
          ],
          "contourcarpet": [
           {
            "colorbar": {
             "outlinewidth": 0,
             "ticks": ""
            },
            "type": "contourcarpet"
           }
          ],
          "heatmap": [
           {
            "colorbar": {
             "outlinewidth": 0,
             "ticks": ""
            },
            "colorscale": [
             [
              0,
              "#0d0887"
             ],
             [
              0.1111111111111111,
              "#46039f"
             ],
             [
              0.2222222222222222,
              "#7201a8"
             ],
             [
              0.3333333333333333,
              "#9c179e"
             ],
             [
              0.4444444444444444,
              "#bd3786"
             ],
             [
              0.5555555555555556,
              "#d8576b"
             ],
             [
              0.6666666666666666,
              "#ed7953"
             ],
             [
              0.7777777777777778,
              "#fb9f3a"
             ],
             [
              0.8888888888888888,
              "#fdca26"
             ],
             [
              1,
              "#f0f921"
             ]
            ],
            "type": "heatmap"
           }
          ],
          "heatmapgl": [
           {
            "colorbar": {
             "outlinewidth": 0,
             "ticks": ""
            },
            "colorscale": [
             [
              0,
              "#0d0887"
             ],
             [
              0.1111111111111111,
              "#46039f"
             ],
             [
              0.2222222222222222,
              "#7201a8"
             ],
             [
              0.3333333333333333,
              "#9c179e"
             ],
             [
              0.4444444444444444,
              "#bd3786"
             ],
             [
              0.5555555555555556,
              "#d8576b"
             ],
             [
              0.6666666666666666,
              "#ed7953"
             ],
             [
              0.7777777777777778,
              "#fb9f3a"
             ],
             [
              0.8888888888888888,
              "#fdca26"
             ],
             [
              1,
              "#f0f921"
             ]
            ],
            "type": "heatmapgl"
           }
          ],
          "histogram": [
           {
            "marker": {
             "pattern": {
              "fillmode": "overlay",
              "size": 10,
              "solidity": 0.2
             }
            },
            "type": "histogram"
           }
          ],
          "histogram2d": [
           {
            "colorbar": {
             "outlinewidth": 0,
             "ticks": ""
            },
            "colorscale": [
             [
              0,
              "#0d0887"
             ],
             [
              0.1111111111111111,
              "#46039f"
             ],
             [
              0.2222222222222222,
              "#7201a8"
             ],
             [
              0.3333333333333333,
              "#9c179e"
             ],
             [
              0.4444444444444444,
              "#bd3786"
             ],
             [
              0.5555555555555556,
              "#d8576b"
             ],
             [
              0.6666666666666666,
              "#ed7953"
             ],
             [
              0.7777777777777778,
              "#fb9f3a"
             ],
             [
              0.8888888888888888,
              "#fdca26"
             ],
             [
              1,
              "#f0f921"
             ]
            ],
            "type": "histogram2d"
           }
          ],
          "histogram2dcontour": [
           {
            "colorbar": {
             "outlinewidth": 0,
             "ticks": ""
            },
            "colorscale": [
             [
              0,
              "#0d0887"
             ],
             [
              0.1111111111111111,
              "#46039f"
             ],
             [
              0.2222222222222222,
              "#7201a8"
             ],
             [
              0.3333333333333333,
              "#9c179e"
             ],
             [
              0.4444444444444444,
              "#bd3786"
             ],
             [
              0.5555555555555556,
              "#d8576b"
             ],
             [
              0.6666666666666666,
              "#ed7953"
             ],
             [
              0.7777777777777778,
              "#fb9f3a"
             ],
             [
              0.8888888888888888,
              "#fdca26"
             ],
             [
              1,
              "#f0f921"
             ]
            ],
            "type": "histogram2dcontour"
           }
          ],
          "mesh3d": [
           {
            "colorbar": {
             "outlinewidth": 0,
             "ticks": ""
            },
            "type": "mesh3d"
           }
          ],
          "parcoords": [
           {
            "line": {
             "colorbar": {
              "outlinewidth": 0,
              "ticks": ""
             }
            },
            "type": "parcoords"
           }
          ],
          "pie": [
           {
            "automargin": true,
            "type": "pie"
           }
          ],
          "scatter": [
           {
            "fillpattern": {
             "fillmode": "overlay",
             "size": 10,
             "solidity": 0.2
            },
            "type": "scatter"
           }
          ],
          "scatter3d": [
           {
            "line": {
             "colorbar": {
              "outlinewidth": 0,
              "ticks": ""
             }
            },
            "marker": {
             "colorbar": {
              "outlinewidth": 0,
              "ticks": ""
             }
            },
            "type": "scatter3d"
           }
          ],
          "scattercarpet": [
           {
            "marker": {
             "colorbar": {
              "outlinewidth": 0,
              "ticks": ""
             }
            },
            "type": "scattercarpet"
           }
          ],
          "scattergeo": [
           {
            "marker": {
             "colorbar": {
              "outlinewidth": 0,
              "ticks": ""
             }
            },
            "type": "scattergeo"
           }
          ],
          "scattergl": [
           {
            "marker": {
             "colorbar": {
              "outlinewidth": 0,
              "ticks": ""
             }
            },
            "type": "scattergl"
           }
          ],
          "scattermapbox": [
           {
            "marker": {
             "colorbar": {
              "outlinewidth": 0,
              "ticks": ""
             }
            },
            "type": "scattermapbox"
           }
          ],
          "scatterpolar": [
           {
            "marker": {
             "colorbar": {
              "outlinewidth": 0,
              "ticks": ""
             }
            },
            "type": "scatterpolar"
           }
          ],
          "scatterpolargl": [
           {
            "marker": {
             "colorbar": {
              "outlinewidth": 0,
              "ticks": ""
             }
            },
            "type": "scatterpolargl"
           }
          ],
          "scatterternary": [
           {
            "marker": {
             "colorbar": {
              "outlinewidth": 0,
              "ticks": ""
             }
            },
            "type": "scatterternary"
           }
          ],
          "surface": [
           {
            "colorbar": {
             "outlinewidth": 0,
             "ticks": ""
            },
            "colorscale": [
             [
              0,
              "#0d0887"
             ],
             [
              0.1111111111111111,
              "#46039f"
             ],
             [
              0.2222222222222222,
              "#7201a8"
             ],
             [
              0.3333333333333333,
              "#9c179e"
             ],
             [
              0.4444444444444444,
              "#bd3786"
             ],
             [
              0.5555555555555556,
              "#d8576b"
             ],
             [
              0.6666666666666666,
              "#ed7953"
             ],
             [
              0.7777777777777778,
              "#fb9f3a"
             ],
             [
              0.8888888888888888,
              "#fdca26"
             ],
             [
              1,
              "#f0f921"
             ]
            ],
            "type": "surface"
           }
          ],
          "table": [
           {
            "cells": {
             "fill": {
              "color": "#EBF0F8"
             },
             "line": {
              "color": "white"
             }
            },
            "header": {
             "fill": {
              "color": "#C8D4E3"
             },
             "line": {
              "color": "white"
             }
            },
            "type": "table"
           }
          ]
         },
         "layout": {
          "annotationdefaults": {
           "arrowcolor": "#2a3f5f",
           "arrowhead": 0,
           "arrowwidth": 1
          },
          "autotypenumbers": "strict",
          "coloraxis": {
           "colorbar": {
            "outlinewidth": 0,
            "ticks": ""
           }
          },
          "colorscale": {
           "diverging": [
            [
             0,
             "#8e0152"
            ],
            [
             0.1,
             "#c51b7d"
            ],
            [
             0.2,
             "#de77ae"
            ],
            [
             0.3,
             "#f1b6da"
            ],
            [
             0.4,
             "#fde0ef"
            ],
            [
             0.5,
             "#f7f7f7"
            ],
            [
             0.6,
             "#e6f5d0"
            ],
            [
             0.7,
             "#b8e186"
            ],
            [
             0.8,
             "#7fbc41"
            ],
            [
             0.9,
             "#4d9221"
            ],
            [
             1,
             "#276419"
            ]
           ],
           "sequential": [
            [
             0,
             "#0d0887"
            ],
            [
             0.1111111111111111,
             "#46039f"
            ],
            [
             0.2222222222222222,
             "#7201a8"
            ],
            [
             0.3333333333333333,
             "#9c179e"
            ],
            [
             0.4444444444444444,
             "#bd3786"
            ],
            [
             0.5555555555555556,
             "#d8576b"
            ],
            [
             0.6666666666666666,
             "#ed7953"
            ],
            [
             0.7777777777777778,
             "#fb9f3a"
            ],
            [
             0.8888888888888888,
             "#fdca26"
            ],
            [
             1,
             "#f0f921"
            ]
           ],
           "sequentialminus": [
            [
             0,
             "#0d0887"
            ],
            [
             0.1111111111111111,
             "#46039f"
            ],
            [
             0.2222222222222222,
             "#7201a8"
            ],
            [
             0.3333333333333333,
             "#9c179e"
            ],
            [
             0.4444444444444444,
             "#bd3786"
            ],
            [
             0.5555555555555556,
             "#d8576b"
            ],
            [
             0.6666666666666666,
             "#ed7953"
            ],
            [
             0.7777777777777778,
             "#fb9f3a"
            ],
            [
             0.8888888888888888,
             "#fdca26"
            ],
            [
             1,
             "#f0f921"
            ]
           ]
          },
          "colorway": [
           "#636efa",
           "#EF553B",
           "#00cc96",
           "#ab63fa",
           "#FFA15A",
           "#19d3f3",
           "#FF6692",
           "#B6E880",
           "#FF97FF",
           "#FECB52"
          ],
          "font": {
           "color": "#2a3f5f"
          },
          "geo": {
           "bgcolor": "white",
           "lakecolor": "white",
           "landcolor": "#E5ECF6",
           "showlakes": true,
           "showland": true,
           "subunitcolor": "white"
          },
          "hoverlabel": {
           "align": "left"
          },
          "hovermode": "closest",
          "mapbox": {
           "style": "light"
          },
          "paper_bgcolor": "white",
          "plot_bgcolor": "#E5ECF6",
          "polar": {
           "angularaxis": {
            "gridcolor": "white",
            "linecolor": "white",
            "ticks": ""
           },
           "bgcolor": "#E5ECF6",
           "radialaxis": {
            "gridcolor": "white",
            "linecolor": "white",
            "ticks": ""
           }
          },
          "scene": {
           "xaxis": {
            "backgroundcolor": "#E5ECF6",
            "gridcolor": "white",
            "gridwidth": 2,
            "linecolor": "white",
            "showbackground": true,
            "ticks": "",
            "zerolinecolor": "white"
           },
           "yaxis": {
            "backgroundcolor": "#E5ECF6",
            "gridcolor": "white",
            "gridwidth": 2,
            "linecolor": "white",
            "showbackground": true,
            "ticks": "",
            "zerolinecolor": "white"
           },
           "zaxis": {
            "backgroundcolor": "#E5ECF6",
            "gridcolor": "white",
            "gridwidth": 2,
            "linecolor": "white",
            "showbackground": true,
            "ticks": "",
            "zerolinecolor": "white"
           }
          },
          "shapedefaults": {
           "line": {
            "color": "#2a3f5f"
           }
          },
          "ternary": {
           "aaxis": {
            "gridcolor": "white",
            "linecolor": "white",
            "ticks": ""
           },
           "baxis": {
            "gridcolor": "white",
            "linecolor": "white",
            "ticks": ""
           },
           "bgcolor": "#E5ECF6",
           "caxis": {
            "gridcolor": "white",
            "linecolor": "white",
            "ticks": ""
           }
          },
          "title": {
           "x": 0.05
          },
          "xaxis": {
           "automargin": true,
           "gridcolor": "white",
           "linecolor": "white",
           "ticks": "",
           "title": {
            "standoff": 15
           },
           "zerolinecolor": "white",
           "zerolinewidth": 2
          },
          "yaxis": {
           "automargin": true,
           "gridcolor": "white",
           "linecolor": "white",
           "ticks": "",
           "title": {
            "standoff": 15
           },
           "zerolinecolor": "white",
           "zerolinewidth": 2
          }
         }
        },
        "title": {
         "text": "Item Frequency Treemap"
        }
       }
      }
     },
     "metadata": {},
     "output_type": "display_data"
    }
   ],
   "source": [
    "freq_df30 = freq_df.head(30)\n",
    "fig = px.treemap(freq_df30, path=['Item'], values='Frequency', color='Frequency',\n",
    "                 color_continuous_scale='viridis', title='Item Frequency Treemap',\n",
    "                 hover_data=['Frequency']) \n",
    "\n",
    "fig.show()"
   ]
  },
  {
   "cell_type": "code",
   "execution_count": 47,
   "metadata": {},
   "outputs": [
    {
     "name": "stdout",
     "output_type": "stream",
     "text": [
      "     support                             itemsets\n",
      "0   0.033249                     (hamburger meat)\n",
      "47  0.056024                 (yogurt, whole milk)\n",
      "34  0.033452                           (UHT-milk)\n",
      "35  0.033859                              (sugar)\n",
      "36  0.057651                               (pork)\n",
      "..       ...                                  ...\n",
      "26  0.055414                             (butter)\n",
      "27  0.053279                               (curd)\n",
      "28  0.038434                            (waffles)\n",
      "29  0.033249                            (berries)\n",
      "62  0.047382  (root vegetables, other vegetables)\n",
      "\n",
      "[63 rows x 2 columns]\n"
     ]
    },
    {
     "data": {
      "text/html": [
       "<div>\n",
       "<style scoped>\n",
       "    .dataframe tbody tr th:only-of-type {\n",
       "        vertical-align: middle;\n",
       "    }\n",
       "\n",
       "    .dataframe tbody tr th {\n",
       "        vertical-align: top;\n",
       "    }\n",
       "\n",
       "    .dataframe thead th {\n",
       "        text-align: right;\n",
       "    }\n",
       "</style>\n",
       "<table border=\"1\" class=\"dataframe\">\n",
       "  <thead>\n",
       "    <tr style=\"text-align: right;\">\n",
       "      <th></th>\n",
       "      <th>antecedents</th>\n",
       "      <th>consequents</th>\n",
       "      <th>antecedent support</th>\n",
       "      <th>consequent support</th>\n",
       "      <th>support</th>\n",
       "      <th>confidence</th>\n",
       "      <th>lift</th>\n",
       "      <th>leverage</th>\n",
       "      <th>conviction</th>\n",
       "      <th>zhangs_metric</th>\n",
       "    </tr>\n",
       "  </thead>\n",
       "  <tbody>\n",
       "    <tr>\n",
       "      <th>19</th>\n",
       "      <td>(other vegetables)</td>\n",
       "      <td>(root vegetables)</td>\n",
       "      <td>0.193493</td>\n",
       "      <td>0.108998</td>\n",
       "      <td>0.047382</td>\n",
       "      <td>0.244877</td>\n",
       "      <td>2.246605</td>\n",
       "      <td>0.026291</td>\n",
       "      <td>1.179941</td>\n",
       "      <td>0.688008</td>\n",
       "    </tr>\n",
       "    <tr>\n",
       "      <th>18</th>\n",
       "      <td>(root vegetables)</td>\n",
       "      <td>(other vegetables)</td>\n",
       "      <td>0.108998</td>\n",
       "      <td>0.193493</td>\n",
       "      <td>0.047382</td>\n",
       "      <td>0.434701</td>\n",
       "      <td>2.246605</td>\n",
       "      <td>0.026291</td>\n",
       "      <td>1.426693</td>\n",
       "      <td>0.622764</td>\n",
       "    </tr>\n",
       "    <tr>\n",
       "      <th>8</th>\n",
       "      <td>(sausage)</td>\n",
       "      <td>(rolls/buns)</td>\n",
       "      <td>0.093950</td>\n",
       "      <td>0.183935</td>\n",
       "      <td>0.030605</td>\n",
       "      <td>0.325758</td>\n",
       "      <td>1.771048</td>\n",
       "      <td>0.013324</td>\n",
       "      <td>1.210344</td>\n",
       "      <td>0.480506</td>\n",
       "    </tr>\n",
       "    <tr>\n",
       "      <th>9</th>\n",
       "      <td>(rolls/buns)</td>\n",
       "      <td>(sausage)</td>\n",
       "      <td>0.183935</td>\n",
       "      <td>0.093950</td>\n",
       "      <td>0.030605</td>\n",
       "      <td>0.166390</td>\n",
       "      <td>1.771048</td>\n",
       "      <td>0.013324</td>\n",
       "      <td>1.086899</td>\n",
       "      <td>0.533490</td>\n",
       "    </tr>\n",
       "    <tr>\n",
       "      <th>2</th>\n",
       "      <td>(tropical fruit)</td>\n",
       "      <td>(other vegetables)</td>\n",
       "      <td>0.104931</td>\n",
       "      <td>0.193493</td>\n",
       "      <td>0.035892</td>\n",
       "      <td>0.342054</td>\n",
       "      <td>1.767790</td>\n",
       "      <td>0.015589</td>\n",
       "      <td>1.225796</td>\n",
       "      <td>0.485239</td>\n",
       "    </tr>\n",
       "    <tr>\n",
       "      <th>3</th>\n",
       "      <td>(other vegetables)</td>\n",
       "      <td>(tropical fruit)</td>\n",
       "      <td>0.193493</td>\n",
       "      <td>0.104931</td>\n",
       "      <td>0.035892</td>\n",
       "      <td>0.185497</td>\n",
       "      <td>1.767790</td>\n",
       "      <td>0.015589</td>\n",
       "      <td>1.098913</td>\n",
       "      <td>0.538522</td>\n",
       "    </tr>\n",
       "    <tr>\n",
       "      <th>13</th>\n",
       "      <td>(whipped/sour cream)</td>\n",
       "      <td>(whole milk)</td>\n",
       "      <td>0.071683</td>\n",
       "      <td>0.255516</td>\n",
       "      <td>0.032232</td>\n",
       "      <td>0.449645</td>\n",
       "      <td>1.759754</td>\n",
       "      <td>0.013916</td>\n",
       "      <td>1.352735</td>\n",
       "      <td>0.465077</td>\n",
       "    </tr>\n",
       "    <tr>\n",
       "      <th>12</th>\n",
       "      <td>(whole milk)</td>\n",
       "      <td>(whipped/sour cream)</td>\n",
       "      <td>0.255516</td>\n",
       "      <td>0.071683</td>\n",
       "      <td>0.032232</td>\n",
       "      <td>0.126144</td>\n",
       "      <td>1.759754</td>\n",
       "      <td>0.013916</td>\n",
       "      <td>1.062323</td>\n",
       "      <td>0.579917</td>\n",
       "    </tr>\n",
       "    <tr>\n",
       "      <th>14</th>\n",
       "      <td>(whole milk)</td>\n",
       "      <td>(root vegetables)</td>\n",
       "      <td>0.255516</td>\n",
       "      <td>0.108998</td>\n",
       "      <td>0.048907</td>\n",
       "      <td>0.191405</td>\n",
       "      <td>1.756031</td>\n",
       "      <td>0.021056</td>\n",
       "      <td>1.101913</td>\n",
       "      <td>0.578298</td>\n",
       "    </tr>\n",
       "    <tr>\n",
       "      <th>15</th>\n",
       "      <td>(root vegetables)</td>\n",
       "      <td>(whole milk)</td>\n",
       "      <td>0.108998</td>\n",
       "      <td>0.255516</td>\n",
       "      <td>0.048907</td>\n",
       "      <td>0.448694</td>\n",
       "      <td>1.756031</td>\n",
       "      <td>0.021056</td>\n",
       "      <td>1.350401</td>\n",
       "      <td>0.483202</td>\n",
       "    </tr>\n",
       "    <tr>\n",
       "      <th>6</th>\n",
       "      <td>(yogurt)</td>\n",
       "      <td>(other vegetables)</td>\n",
       "      <td>0.139502</td>\n",
       "      <td>0.193493</td>\n",
       "      <td>0.043416</td>\n",
       "      <td>0.311224</td>\n",
       "      <td>1.608457</td>\n",
       "      <td>0.016424</td>\n",
       "      <td>1.170929</td>\n",
       "      <td>0.439613</td>\n",
       "    </tr>\n",
       "    <tr>\n",
       "      <th>7</th>\n",
       "      <td>(other vegetables)</td>\n",
       "      <td>(yogurt)</td>\n",
       "      <td>0.193493</td>\n",
       "      <td>0.139502</td>\n",
       "      <td>0.043416</td>\n",
       "      <td>0.224383</td>\n",
       "      <td>1.608457</td>\n",
       "      <td>0.016424</td>\n",
       "      <td>1.109436</td>\n",
       "      <td>0.469042</td>\n",
       "    </tr>\n",
       "    <tr>\n",
       "      <th>0</th>\n",
       "      <td>(tropical fruit)</td>\n",
       "      <td>(whole milk)</td>\n",
       "      <td>0.104931</td>\n",
       "      <td>0.255516</td>\n",
       "      <td>0.042298</td>\n",
       "      <td>0.403101</td>\n",
       "      <td>1.577595</td>\n",
       "      <td>0.015486</td>\n",
       "      <td>1.247252</td>\n",
       "      <td>0.409045</td>\n",
       "    </tr>\n",
       "    <tr>\n",
       "      <th>1</th>\n",
       "      <td>(whole milk)</td>\n",
       "      <td>(tropical fruit)</td>\n",
       "      <td>0.255516</td>\n",
       "      <td>0.104931</td>\n",
       "      <td>0.042298</td>\n",
       "      <td>0.165539</td>\n",
       "      <td>1.577595</td>\n",
       "      <td>0.015486</td>\n",
       "      <td>1.072631</td>\n",
       "      <td>0.491782</td>\n",
       "    </tr>\n",
       "    <tr>\n",
       "      <th>4</th>\n",
       "      <td>(yogurt)</td>\n",
       "      <td>(whole milk)</td>\n",
       "      <td>0.139502</td>\n",
       "      <td>0.255516</td>\n",
       "      <td>0.056024</td>\n",
       "      <td>0.401603</td>\n",
       "      <td>1.571735</td>\n",
       "      <td>0.020379</td>\n",
       "      <td>1.244132</td>\n",
       "      <td>0.422732</td>\n",
       "    </tr>\n",
       "    <tr>\n",
       "      <th>5</th>\n",
       "      <td>(whole milk)</td>\n",
       "      <td>(yogurt)</td>\n",
       "      <td>0.255516</td>\n",
       "      <td>0.139502</td>\n",
       "      <td>0.056024</td>\n",
       "      <td>0.219260</td>\n",
       "      <td>1.571735</td>\n",
       "      <td>0.020379</td>\n",
       "      <td>1.102157</td>\n",
       "      <td>0.488608</td>\n",
       "    </tr>\n",
       "    <tr>\n",
       "      <th>11</th>\n",
       "      <td>(pip fruit)</td>\n",
       "      <td>(whole milk)</td>\n",
       "      <td>0.075648</td>\n",
       "      <td>0.255516</td>\n",
       "      <td>0.030097</td>\n",
       "      <td>0.397849</td>\n",
       "      <td>1.557043</td>\n",
       "      <td>0.010767</td>\n",
       "      <td>1.236375</td>\n",
       "      <td>0.387036</td>\n",
       "    </tr>\n",
       "    <tr>\n",
       "      <th>10</th>\n",
       "      <td>(whole milk)</td>\n",
       "      <td>(pip fruit)</td>\n",
       "      <td>0.255516</td>\n",
       "      <td>0.075648</td>\n",
       "      <td>0.030097</td>\n",
       "      <td>0.117788</td>\n",
       "      <td>1.557043</td>\n",
       "      <td>0.010767</td>\n",
       "      <td>1.047765</td>\n",
       "      <td>0.480544</td>\n",
       "    </tr>\n",
       "    <tr>\n",
       "      <th>17</th>\n",
       "      <td>(other vegetables)</td>\n",
       "      <td>(whole milk)</td>\n",
       "      <td>0.193493</td>\n",
       "      <td>0.255516</td>\n",
       "      <td>0.074835</td>\n",
       "      <td>0.386758</td>\n",
       "      <td>1.513634</td>\n",
       "      <td>0.025394</td>\n",
       "      <td>1.214013</td>\n",
       "      <td>0.420750</td>\n",
       "    </tr>\n",
       "    <tr>\n",
       "      <th>16</th>\n",
       "      <td>(whole milk)</td>\n",
       "      <td>(other vegetables)</td>\n",
       "      <td>0.255516</td>\n",
       "      <td>0.193493</td>\n",
       "      <td>0.074835</td>\n",
       "      <td>0.292877</td>\n",
       "      <td>1.513634</td>\n",
       "      <td>0.025394</td>\n",
       "      <td>1.140548</td>\n",
       "      <td>0.455803</td>\n",
       "    </tr>\n",
       "  </tbody>\n",
       "</table>\n",
       "</div>"
      ],
      "text/plain": [
       "             antecedents           consequents  antecedent support  \\\n",
       "19    (other vegetables)     (root vegetables)            0.193493   \n",
       "18     (root vegetables)    (other vegetables)            0.108998   \n",
       "8              (sausage)          (rolls/buns)            0.093950   \n",
       "9           (rolls/buns)             (sausage)            0.183935   \n",
       "2       (tropical fruit)    (other vegetables)            0.104931   \n",
       "3     (other vegetables)      (tropical fruit)            0.193493   \n",
       "13  (whipped/sour cream)          (whole milk)            0.071683   \n",
       "12          (whole milk)  (whipped/sour cream)            0.255516   \n",
       "14          (whole milk)     (root vegetables)            0.255516   \n",
       "15     (root vegetables)          (whole milk)            0.108998   \n",
       "6               (yogurt)    (other vegetables)            0.139502   \n",
       "7     (other vegetables)              (yogurt)            0.193493   \n",
       "0       (tropical fruit)          (whole milk)            0.104931   \n",
       "1           (whole milk)      (tropical fruit)            0.255516   \n",
       "4               (yogurt)          (whole milk)            0.139502   \n",
       "5           (whole milk)              (yogurt)            0.255516   \n",
       "11           (pip fruit)          (whole milk)            0.075648   \n",
       "10          (whole milk)           (pip fruit)            0.255516   \n",
       "17    (other vegetables)          (whole milk)            0.193493   \n",
       "16          (whole milk)    (other vegetables)            0.255516   \n",
       "\n",
       "    consequent support   support  confidence      lift  leverage  conviction  \\\n",
       "19            0.108998  0.047382    0.244877  2.246605  0.026291    1.179941   \n",
       "18            0.193493  0.047382    0.434701  2.246605  0.026291    1.426693   \n",
       "8             0.183935  0.030605    0.325758  1.771048  0.013324    1.210344   \n",
       "9             0.093950  0.030605    0.166390  1.771048  0.013324    1.086899   \n",
       "2             0.193493  0.035892    0.342054  1.767790  0.015589    1.225796   \n",
       "3             0.104931  0.035892    0.185497  1.767790  0.015589    1.098913   \n",
       "13            0.255516  0.032232    0.449645  1.759754  0.013916    1.352735   \n",
       "12            0.071683  0.032232    0.126144  1.759754  0.013916    1.062323   \n",
       "14            0.108998  0.048907    0.191405  1.756031  0.021056    1.101913   \n",
       "15            0.255516  0.048907    0.448694  1.756031  0.021056    1.350401   \n",
       "6             0.193493  0.043416    0.311224  1.608457  0.016424    1.170929   \n",
       "7             0.139502  0.043416    0.224383  1.608457  0.016424    1.109436   \n",
       "0             0.255516  0.042298    0.403101  1.577595  0.015486    1.247252   \n",
       "1             0.104931  0.042298    0.165539  1.577595  0.015486    1.072631   \n",
       "4             0.255516  0.056024    0.401603  1.571735  0.020379    1.244132   \n",
       "5             0.139502  0.056024    0.219260  1.571735  0.020379    1.102157   \n",
       "11            0.255516  0.030097    0.397849  1.557043  0.010767    1.236375   \n",
       "10            0.075648  0.030097    0.117788  1.557043  0.010767    1.047765   \n",
       "17            0.255516  0.074835    0.386758  1.513634  0.025394    1.214013   \n",
       "16            0.193493  0.074835    0.292877  1.513634  0.025394    1.140548   \n",
       "\n",
       "    zhangs_metric  \n",
       "19       0.688008  \n",
       "18       0.622764  \n",
       "8        0.480506  \n",
       "9        0.533490  \n",
       "2        0.485239  \n",
       "3        0.538522  \n",
       "13       0.465077  \n",
       "12       0.579917  \n",
       "14       0.578298  \n",
       "15       0.483202  \n",
       "6        0.439613  \n",
       "7        0.469042  \n",
       "0        0.409045  \n",
       "1        0.491782  \n",
       "4        0.422732  \n",
       "5        0.488608  \n",
       "11       0.387036  \n",
       "10       0.480544  \n",
       "17       0.420750  \n",
       "16       0.455803  "
      ]
     },
     "execution_count": 47,
     "metadata": {},
     "output_type": "execute_result"
    }
   ],
   "source": [
    "#Applying Apriori Algorithm on all items\n",
    "\n",
    "frq_items = apriori(df, min_support = 0.03, use_colnames=True)\n",
    "print(frq_items.sort_values(by='itemsets',ascending=False))\n",
    "\n",
    "rules = association_rules(frq_items, metric=\"lift\", min_threshold=1.5)\n",
    "rules.sort_values(by='lift',ascending=False)"
   ]
  }
 ],
 "metadata": {
  "kernelspec": {
   "display_name": "base",
   "language": "python",
   "name": "python3"
  },
  "language_info": {
   "codemirror_mode": {
    "name": "ipython",
    "version": 3
   },
   "file_extension": ".py",
   "mimetype": "text/x-python",
   "name": "python",
   "nbconvert_exporter": "python",
   "pygments_lexer": "ipython3",
   "version": "3.10.9"
  },
  "orig_nbformat": 4
 },
 "nbformat": 4,
 "nbformat_minor": 2
}
