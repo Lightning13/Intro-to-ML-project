{
 "cells": [
  {
   "cell_type": "markdown",
   "metadata": {},
   "source": [
    "# Probability Practice"
   ]
  },
  {
   "cell_type": "markdown",
   "metadata": {},
   "source": [
    "Part A. Visitors to your website are asked to answer a single survey question before they get access to the content on the page. Among all of the users, there are two categories: Random Clicker (RC), and Truthful Clicker (TC). There are two possible answers to the survey: yes and no. Random clickers would click either one with equal probability. You are also giving the information that the expected fraction of random clickers is 0.3. After a trial period, you get the following survey results: 65% said Yes and 35% said No. What fraction of people who are truthful clickers answered yes? Hint: use the rule of total probability."
   ]
  },
  {
   "cell_type": "markdown",
   "metadata": {},
   "source": [
    "P(RC) = 0.3 => P(TC) = 0.7\n",
    "\n",
    "RC and TC are mutually exclusive and exhaustive\n",
    "\n",
    "P(‘yes’| RC) = P(‘no’| RC) = 0.5\n",
    "\n",
    "p(‘yes’) = 0.65\n",
    "\n",
    "Total Probabilty of Yes\n",
    "P(Yes) = P(RC)* P(‘yes’| Rc) + P(TC)* P('yes'|TC)"
   ]
  },
  {
   "cell_type": "code",
   "execution_count": 8,
   "metadata": {},
   "outputs": [
    {
     "name": "stdout",
     "output_type": "stream",
     "text": [
      "The fraction of people who are truthful clickers and have also answered yes are:  0.7142857142857143\n"
     ]
    }
   ],
   "source": [
    "#Total probability calculations\n",
    "\n",
    "p_rc = 0.3  #Probability of Random Clickers in total\n",
    "p_tc = 0.7  #Probability of Truthful Clickers in total\n",
    "\n",
    "p_rc_yes = 0.5  #probability of Random Clickers who answer Yes\n",
    "p_rc_no = 0.5   #probability of Random Clickers who answer No\n",
    "\n",
    "total_p_yes = 0.65  #Total Probability of 'Yes'\n",
    "total_p_no = 0.35  #Total Probability of 'No'\n",
    "\n",
    "#Since Total Probabilty of Yes--> P(Yes) = P(RC)* P(‘yes’| Rc) + P(TC)* P('yes'|TC)\n",
    "p_tc_yes = (total_p_yes - (p_rc * p_rc_yes))/(p_tc)\n",
    "print('The fraction of people who are truthful clickers and have also answered yes are: ', p_tc_yes)"
   ]
  },
  {
   "cell_type": "markdown",
   "metadata": {},
   "source": [
    "Part B. Imagine a medical test for a disease with the following two attributes:\n",
    "\n",
    "* The sensitivity is about 0.993. That is, if someone has the disease, there is a probability of 0.993 that they will test positive.\n",
    "* The specificity is about 0.9999. This means that if someone doesn't have the disease, there is probability of 0.9999 that they will test negative.\n",
    "* In the general population, incidence of the disease is reasonably rare: about 0.0025% of all people have it (or 0.000025 as a decimal probability).\n",
    "\n",
    "\n",
    "Suppose someone tests positive. What is the probability that they have the disease?"
   ]
  },
  {
   "cell_type": "code",
   "execution_count": 9,
   "metadata": {},
   "outputs": [
    {
     "name": "stdout",
     "output_type": "stream",
     "text": [
      "The probability that the person has the disease is:  0.19888241302651516\n"
     ]
    }
   ],
   "source": [
    "# P(Positive|Disease) = 0.993 => P(Negative|Disease) = 0.007\n",
    "p_dis_postest = 0.993                    #sensitivity, probability of true result\n",
    "p_dis_negtest = 1 - p_dis_postest        #probability of False Result\n",
    "\n",
    "# P(Positive|Healthy) = 0.0001 ; P(Negative| Healthy) = 0.9999\n",
    "p_no_dis_negtest = 0.9999                 #specificity, probability of true result\n",
    "p_no_dis_postest = 1 - p_no_dis_negtest    #probability of False Result\n",
    "\n",
    "# P(Disease)=0.000025 ; P(Healthy)= 0.999975\n",
    "p_disease = 0.000025               #Total probability of having the Disease\n",
    "p_no = 1 - p_disease               #Total probability of not having the Disease\n",
    "\n",
    "#Total probability of Having the Diseases is --> P(Disease) = P(P_Disease)* P(P_Dis_Postest) + P(P_No)* P(P_No_Dis_Postest)\n",
    "total_p_disease = (p_disease* p_dis_postest) + (p_no * p_no_dis_postest)\n",
    "\n",
    "\n",
    "#To find the conditional probability of having the disease given that someone tested positive\n",
    "# P(disease|Positive Test) = (P(PositiveTest|Disease) * P(disease))/Total probability of disease\n",
    "p_dis_with_postest = (p_dis_postest * p_disease)/total_p_disease\n",
    "print('The probability that the person has the disease is: ', p_dis_with_postest)"
   ]
  }
 ],
 "metadata": {
  "kernelspec": {
   "display_name": "Python 3",
   "language": "python",
   "name": "python3"
  },
  "language_info": {
   "codemirror_mode": {
    "name": "ipython",
    "version": 3
   },
   "file_extension": ".py",
   "mimetype": "text/x-python",
   "name": "python",
   "nbconvert_exporter": "python",
   "pygments_lexer": "ipython3",
   "version": "3.11.4"
  },
  "orig_nbformat": 4
 },
 "nbformat": 4,
 "nbformat_minor": 2
}
